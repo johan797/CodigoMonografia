{
 "cells": [
  {
   "cell_type": "markdown",
   "id": "20678107-c05b-4598-93ed-405f1cfd70da",
   "metadata": {},
   "source": [
    "### calculadora con gradio"
   ]
  },
  {
   "cell_type": "code",
   "execution_count": 1,
   "id": "148ba6a8-5bb2-4e77-b5cc-fc2ebba3f3d1",
   "metadata": {},
   "outputs": [
    {
     "name": "stderr",
     "output_type": "stream",
     "text": [
      "C:\\Users\\johan\\anaconda\\anaconda3\\envs\\dgpu39\\lib\\site-packages\\tqdm\\auto.py:21: TqdmWarning: IProgress not found. Please update jupyter and ipywidgets. See https://ipywidgets.readthedocs.io/en/stable/user_install.html\n",
      "  from .autonotebook import tqdm as notebook_tqdm\n"
     ]
    },
    {
     "name": "stdout",
     "output_type": "stream",
     "text": [
      "Running on local URL:  http://127.0.0.1:7898\n",
      "\n",
      "To create a public link, set `share=True` in `launch()`.\n"
     ]
    },
    {
     "data": {
      "text/html": [
       "<div><iframe src=\"http://127.0.0.1:7898/\" width=\"100%\" height=\"500\" allow=\"autoplay; camera; microphone; clipboard-read; clipboard-write;\" frameborder=\"0\" allowfullscreen></iframe></div>"
      ],
      "text/plain": [
       "<IPython.core.display.HTML object>"
      ]
     },
     "metadata": {},
     "output_type": "display_data"
    }
   ],
   "source": [
    "import gradio as gr\n",
    "\n",
    "\n",
    "def calculator(num1, operation, num2):\n",
    "    if operation == \"add\":\n",
    "        return num1 + num2\n",
    "    elif operation == \"subtract\":\n",
    "        return num1 - num2\n",
    "    elif operation == \"multiply\":\n",
    "        return num1 * num2\n",
    "    elif operation == \"divide\":\n",
    "        return num1 / num2\n",
    "\n",
    "\n",
    "with gr.Blocks() as demo:\n",
    "    with gr.Row():\n",
    "        with gr.Column():\n",
    "            num_1 = gr.Number(value=4)\n",
    "            operation = gr.Radio([\"add\", \"subtract\", \"multiply\", \"divide\"])\n",
    "            num_2 = gr.Number(value=0)\n",
    "            submit_btn = gr.Button(value=\"Calculate\")\n",
    "        with gr.Column():\n",
    "            result = gr.Number()\n",
    "\n",
    "    submit_btn.click(calculator, inputs=[num_1, operation, num_2], outputs=[result], api_name=False)\n",
    "    examples = gr.Examples(examples=[[5, \"add\", 3],\n",
    "                                     [4, \"divide\", 2],\n",
    "                                     [-4, \"multiply\", 2.5],\n",
    "                                     [0, \"subtract\", 1.2]],\n",
    "                           inputs=[num_1, operation, num_2])\n",
    "\n",
    "if __name__ == \"__main__\":\n",
    "    demo.launch(show_api=False)"
   ]
  }
 ],
 "metadata": {
  "kernelspec": {
   "display_name": "dgpu39",
   "language": "python",
   "name": "dgpu39"
  },
  "language_info": {
   "codemirror_mode": {
    "name": "ipython",
    "version": 3
   },
   "file_extension": ".py",
   "mimetype": "text/x-python",
   "name": "python",
   "nbconvert_exporter": "python",
   "pygments_lexer": "ipython3",
   "version": "3.9.18"
  }
 },
 "nbformat": 4,
 "nbformat_minor": 5
}
