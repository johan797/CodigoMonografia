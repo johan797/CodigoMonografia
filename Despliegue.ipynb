{
 "cells": [
  {
   "cell_type": "markdown",
   "id": "78e8d734-5003-47cc-bee9-b3c698aee3aa",
   "metadata": {},
   "source": [
    "# Despliegue con gradio"
   ]
  },
  {
   "cell_type": "markdown",
   "id": "3bd49fd7-35c7-49d7-8222-f322f1b93465",
   "metadata": {},
   "source": [
    "## Ejemplo "
   ]
  },
  {
   "cell_type": "code",
   "execution_count": null,
   "id": "07baf239-0313-4767-9e50-61b6661ac8d8",
   "metadata": {
    "jupyter": {
     "source_hidden": true
    }
   },
   "outputs": [],
   "source": [
    "!pip install gradio"
   ]
  },
  {
   "cell_type": "code",
   "execution_count": null,
   "id": "b1463657-92f8-41b0-bfc6-cf77927d894e",
   "metadata": {
    "jupyter": {
     "source_hidden": true
    }
   },
   "outputs": [],
   "source": [
    "recordamos de la\n",
    " clase anterior habíamos creado un modelo\n",
    " para clasificar imágenes de perros y\n",
    " gatos utilizando la librería Fast eye\n",
    " habíamos guardado el modelo como\n",
    " pspk y habíamos guardado una imagen de\n",
    " un perro otro perro y un gato Pues bien\n",
    " en el vídeo de hoy quiero utilizar la\n",
    " librería gradio que la tengo aquí ya\n",
    " instalada para no solo hacer\n",
    " predicciones con el modelo que hemos\n",
    " creado sino además ser capaces de\n",
    " compartir este modelo con un enlace para\n",
    " que cualquier persona sin tener\n",
    " conocimientos de programación pueda\n",
    " ejecutar nuestro modelo y ver cómo\n",
    " funciona en una interfaz gráfica para\n",
    " ello si venimos \n",
    "\n",
    "1 Aquí vemos que he\n",
    " importado todos los métodos de la\n",
    " librería fasai Vision del ejercicio\n",
    " anterior he importado por supuesto gradio\n",
    " eh \n",
    " 2 Aquí tengo la función que habíamos\n",
    "  creado iscat para crear las etiquetas eh\n",
    " de perros y gatos y he guardado el\n",
    " modelo que teníamos ya hecho en una\n",
    " variable llamada learner bien\n",
    " eh Pues nada vamos ajuntar esta celda y\n",
    " en la siguiente celda he creado una\n",
    " tupla con dos categorías perro y gato\n",
    " aquí está todo lo que va a necesitar la\n",
    " librería gradio para poder eh crear la\n",
    " interfaz de nuestro modelo eh Como decía\n",
    " aparte de las categorías \n",
    "\n",
    "3 también he\n",
    " creado una función que la he llamado\n",
    " clasificar imagen que lo único que hace\n",
    " es llamar al método predict que ya viene\n",
    " viene disponible por defecto eh en Fast\n",
    " ahí en todos los modelos entonces la\n",
    " variable learner con el modelo llamamos\n",
    " al método predict y le pasamos Pues un\n",
    " único argumento la imagen la imagen de\n",
    " un perro o de un gato para que vaya haga\n",
    " la predicción aquí estoy cambiando a\n",
    " formato número formato\n",
    " flat porque\n",
    " bueno el método pred no va volver un\n",
    " tensor en el cual en la posición uno\n",
    " viene la probabilidad como una cadena de\n",
    " texto Así que lo que hago es pasarla a\n",
    " número y multiplicarla por 100 Pues\n",
    " porque no quiero que me dé la\n",
    " probabilidad como 097 sino que prefiero\n",
    " que me dé 97\n",
    "no por poner un ejemplo y\n",
    " nada \n",
    "\n",
    "4 Hay que crear dos cositas más las\n",
    " inputs y las outputs las inputs pues van\n",
    " a ser evidentemente las imágenes siempre\n",
    " el mismo tamaño todas y las outputs van\n",
    " a ser las etiquetas es decir o bien o\n",
    " bien gato\n",
    " eh cogemos la función y la probamos aquí\n",
    " si ejecutamos esta cela estoy llamando\n",
    " la función para para el método para la\n",
    " foto del gato y me está diciendo que la\n",
    " probabilidad de la imagen pues es 100 de\n",
    " que la imagen se un gato es 100 luego\n",
    " funciona bien y si venimos aquí en esta\n",
    " última celda tengo pues una lista con\n",
    " todas las fotos que tenemos guardadas\n",
    " Cat doc y no sé qué es lo que le he\n",
    " puesto a al otro perro y fijaros quiero\n",
    " llamar la atención de estas dos líneas\n",
    " en tan solo dos líneas podemos desplegar\n",
    " una interfaz gráfica de forma muy rápida\n",
    " gracias a Gro Por supuesto que tiene un\n",
    " nivel de abstracción muy alto solo hay\n",
    " que pasarle todo lo que hemos creado\n",
    " primero la función clasificar imagen las\n",
    " inputs que son las imágenes las outputs\n",
    " que son la etiqueta y exemples pues son\n",
    " la lista con las imágenes que queremos\n",
    " que estén disponibles y después de eso\n",
    " solo hay que hacer Llamar al método\n",
    " punto launch vale para que la interfaz\n",
    " se despliegue así de sencillo Vale\n",
    " entonces e aquí podéis ver que si lo\n",
    " ejecuto me va a dar una interfaz con las\n",
    " tres fotos que yo le le he pasado en la\n",
    " lista las puedo arrastrar Y si clico\n",
    " submit ya gradio va a ejecutar por mí la\n",
    " función que le hemos dicho y que nos\n",
    " retorna la probabilidad de que la imagen\n",
    " sea un gato que en este caso es\n",
    " podemos borrarla cargar otra volverla a\n",
    " probar en este caso la probilidad es muy\n",
    " baja porque no es un gato evidentemente\n",
    " y en este también muy baja un poquito\n",
    " más alta Así que super rápido y super\n",
    " práctica esta librería vale si además\n",
    " queréis compartir el enlace solamente\n",
    " habría que poner sh ig true en el método\n",
    " launch y nos va a dar un enlace para que\n",
    " esto no se quede en local sino que yo\n",
    " pueda compartirlo Pues con cualquier\n",
    " persona y ella o él pueda e visualizar\n",
    " esta interfaz gráfica vale\n",
    " e a ver si nos da Aquí está una\n",
    " URL Y si la\n",
    " copiamos\n",
    " y lo\n",
    " pegamos Pues nos va a cargar una\n",
    " interfaz con el modelo\n",
    " ahí vemos que está cargando y ahí está\n",
    " Pues nada espero que lo hayáis\n",
    " encontrado práctico y nos vemos en el\n",
    " próximo\n",
    " vídeo"
   ]
  },
  {
   "cell_type": "markdown",
   "id": "43d02491-0621-4244-b769-ea5399566b99",
   "metadata": {
    "jp-MarkdownHeadingCollapsed": true
   },
   "source": [
    "### Conversion de .keras a h5"
   ]
  },
  {
   "cell_type": "code",
   "execution_count": 1,
   "id": "5a20059b-63ad-47b1-9cc8-56b7a1a74a14",
   "metadata": {},
   "outputs": [],
   "source": [
    "from keras.models import load_model\n",
    "\n",
    "# Cargar el modelo desde un archivo en formato nativo de Keras\n",
    "model = load_model('dnn_PCA_2do.keras')\n",
    "\n",
    "# Guardar el modelo en formato h5\n",
    "model.save('dnn_PCA_2do.h5')\n"
   ]
  },
  {
   "cell_type": "markdown",
   "id": "d65a70b8-4743-4a31-a96d-537ce39a1b79",
   "metadata": {
    "jp-MarkdownHeadingCollapsed": true
   },
   "source": [
    "###  Muestra de registros para prueba"
   ]
  },
  {
   "cell_type": "code",
   "execution_count": 21,
   "id": "e77dc5f0-e143-492d-9455-aba04215b707",
   "metadata": {},
   "outputs": [],
   "source": [
    "import pandas as pd\n",
    "\n",
    "# Cargar el archivo de datos \n",
    "df = pd.read_csv(\"dataset/data/sample_4M_cod.csv\")\n",
    "\n",
    "# Verificar si la columna 'AttackCod' existe en el DataFrame\n",
    "if 'AttackCod' not in df.columns:\n",
    "    print(\"La columna 'AttackCod' no existe en el DataFrame.\")\n",
    "else:\n",
    "    # Muestreo de filas de la clase 'Benign' (0) y 'DDoS' (1)\n",
    "    benign_samples = df[df['AttackCod'] == 0].sample(n=5, random_state=42, replace=True)\n",
    "    ddos_samples = df[df['AttackCod'] == 1].sample(n=10, random_state=42, replace=True)\n",
    "\n",
    "    # Combinar las muestras en un solo DataFrame\n",
    "    sampled_df = pd.concat([benign_samples, ddos_samples])\n",
    "\n",
    "    # Imprimir las muestras\n",
    "    print(sampled_df)\n",
    "\n",
    "    # Guardar el DataFrame muestreado en un nuevo archivo CSV\n",
    "    sampled_df.to_csv('dataset/data/sample_deploy.csv', index=False)\n"
   ]
  },
  {
   "cell_type": "code",
   "execution_count": 83,
   "id": "8f765797-0466-4864-a525-6fff605977a9",
   "metadata": {},
   "outputs": [],
   "source": [
    "import pandas as pd\n",
    "\n",
    "# Cargar el archivo de datos \n",
    "df = pd.read_csv(\"dataset/data/sample_4M_cod.csv\")\n",
    "\n",
    "# Verificar si la columna 'AttackCod' existe en el DataFrame\n",
    "if 'AttackCod' not in df.columns:\n",
    "    print(\"La columna 'AttackCod' no existe en el DataFrame.\")\n",
    "else:\n",
    "    # Iterar para obtener múltiples muestras aleatorias\n",
    "    for i in range(3):  # Cambia el número de muestras aquí\n",
    "        # Muestreo de filas de la clase 'Benign' (0) y 'DDoS' (1)\n",
    "        benign_samples = df[df['AttackCod'] == 0].sample(n=5, random_state=i, replace=True)\n",
    "        ddos_samples = df[df['AttackCod'] == 1].sample(n=5, random_state=i, replace=True)\n",
    "\n",
    "        # Combinar las muestras en un solo DataFrame\n",
    "        sampled_df = pd.concat([benign_samples, ddos_samples])\n",
    "\n",
    "        # Guardar el DataFrame muestreado en un nuevo archivo CSV\n",
    "        filename = f\"dataset/data/sample_deploy_{i+1}.csv\"\n",
    "        sampled_df.to_csv(filename, index=False)\n"
   ]
  },
  {
   "cell_type": "markdown",
   "id": "4506610e-7c22-4755-9ab7-d21b52fec54b",
   "metadata": {
    "jp-MarkdownHeadingCollapsed": true
   },
   "source": [
    "### prediccion sin interfaz"
   ]
  },
  {
   "cell_type": "code",
   "execution_count": 91,
   "id": "ffd0fc2f-fb5a-4850-a00a-df531ce9c458",
   "metadata": {},
   "outputs": [
    {
     "name": "stdout",
     "output_type": "stream",
     "text": [
      "1/1 [==============================] - 0s 58ms/step\n",
      "Valores reales vs. Predicciones:\n",
      "Instancia 1:  Predicción=0,   Valor Real=0\n",
      "Instancia 2:  Predicción=0,   Valor Real=0\n",
      "Instancia 3:  Predicción=0,   Valor Real=0\n",
      "Instancia 4:  Predicción=0,   Valor Real=0\n",
      "Instancia 5:  Predicción=0,   Valor Real=0\n",
      "Instancia 6:  Predicción=0,   Valor Real=1\n",
      "Instancia 7:  Predicción=1,   Valor Real=1\n",
      "Instancia 8:  Predicción=1,   Valor Real=1\n",
      "Instancia 9:  Predicción=1,   Valor Real=1\n",
      "Instancia 10:  Predicción=0,   Valor Real=1\n",
      "1/1 [==============================] - 0s 37ms/step\n",
      "1/1 [==============================] - 0s 42ms/step\n",
      "1/1 [==============================] - 0s 27ms/step\n",
      "1/1 [==============================] - 0s 35ms/step\n",
      "1/1 [==============================] - 0s 52ms/step\n",
      "1/1 [==============================] - 0s 41ms/step\n",
      "1/1 [==============================] - 0s 36ms/step\n",
      "1/1 [==============================] - 0s 34ms/step\n",
      "1/1 [==============================] - 0s 32ms/step\n",
      "1/1 [==============================] - 0s 37ms/step\n",
      "1/1 [==============================] - 0s 35ms/step\n",
      "1/1 [==============================] - 0s 35ms/step\n",
      "1/1 [==============================] - 0s 35ms/step\n",
      "1/1 [==============================] - 0s 36ms/step\n"
     ]
    }
   ],
   "source": [
    "import pandas as pd\n",
    "from sklearn.preprocessing import MinMaxScaler\n",
    "from tensorflow.keras.models import load_model\n",
    "import gradio as gr\n",
    "\n",
    "# Cargar el modelo\n",
    "modelo = load_model('dnn_rfe_2do.keras')\n",
    "# Cargar datos CSV\n",
    "datos = pd.read_csv('dataset/data/sample_deploy_2.csv')\n",
    "# Seleccionar características y objetivo\n",
    "NIDS_features=['L4_DST_PORT', 'L7_PROTO','IN_BYTES','IN_PKTS','OUT_BYTES','OUT_PKTS',\n",
    "                'CLIENT_TCP_FLAGS','FLOW_DURATION_MILLISECONDS','DURATION_IN','DURATION_OUT','MIN_TTL',\n",
    "                'MAX_TTL','LONGEST_FLOW_PKT','SHORTEST_FLOW_PKT','MIN_IP_PKT_LEN','MAX_IP_PKT_LEN',\n",
    "               'SRC_TO_DST_SECOND_BYTES','SRC_TO_DST_AVG_THROUGHPUT','DST_TO_SRC_AVG_THROUGHPUT',\n",
    "               'NUM_PKTS_UP_TO_128_BYTES','TCP_WIN_MAX_IN','TCP_WIN_MAX_OUT']\n",
    "X = datos[NIDS_features]  # Características\n",
    "y = datos['AttackCod']  # Objetivo\n",
    "\n",
    "# Normalizar datos con MinMaxScaler\n",
    "scaler = MinMaxScaler()\n",
    "X_norm = scaler.fit_transform(X)\n",
    "#print(X_norm)\n",
    "# Realizar predicciones\n",
    "predicciones = modelo.predict(X_norm)\n",
    "\n",
    "# Etiquetar predicciones\n",
    "predicciones_etiquetadas = [0 if pred < 0.5 else 1 for pred in predicciones]\n",
    "\n",
    "# Imprimir valores reales y predichos\n",
    "print(\"Valores reales vs. Predicciones:\")\n",
    "for i, (real, pred) in enumerate(zip(y, predicciones_etiquetadas)):\n",
    "    print(f\"Instancia {i+1}:  Predicción={pred},   Valor Real={real}\")\n",
    "\n"
   ]
  },
  {
   "cell_type": "code",
   "execution_count": null,
   "id": "85ed3573-099d-478c-bc04-d61aadfc3f1c",
   "metadata": {
    "jupyter": {
     "source_hidden": true
    }
   },
   "outputs": [],
   "source": [
    "def iterar_filas():\n",
    "    for row in X_norm:\n",
    "        yield row.tolist()\n",
    "\n",
    "# Iterar sobre los elementos generados por el generador\n",
    "for fila in iterar_filas():\n",
    "    print(fila)\n"
   ]
  },
  {
   "cell_type": "code",
   "execution_count": 26,
   "id": "95e6bb4b-bdb2-4e07-9664-03e722f365e5",
   "metadata": {},
   "outputs": [
    {
     "name": "stdout",
     "output_type": "stream",
     "text": [
      "Running on local URL:  http://127.0.0.1:7873\n",
      "\n",
      "Could not create share link. Please check your internet connection or our status page: https://status.gradio.app.\n"
     ]
    },
    {
     "data": {
      "text/html": [
       "<div><iframe src=\"http://127.0.0.1:7873/\" width=\"100%\" height=\"500\" allow=\"autoplay; camera; microphone; clipboard-read; clipboard-write;\" frameborder=\"0\" allowfullscreen></iframe></div>"
      ],
      "text/plain": [
       "<IPython.core.display.HTML object>"
      ]
     },
     "metadata": {},
     "output_type": "display_data"
    },
    {
     "data": {
      "text/plain": []
     },
     "execution_count": 26,
     "metadata": {},
     "output_type": "execute_result"
    }
   ],
   "source": [
    "\n",
    "\n",
    "# Definir la función para hacer predicciones\n",
    "def hacer_prediccion(L4_DST_PORT, L7_PROTO, IN_BYTES, IN_PKTS, OUT_BYTES, OUT_PKTS,\n",
    "                     CLIENT_TCP_FLAGS, FLOW_DURATION_MILLISECONDS, DURATION_IN, DURATION_OUT,\n",
    "                     MIN_TTL, MAX_TTL, LONGEST_FLOW_PKT, SHORTEST_FLOW_PKT, MIN_IP_PKT_LEN,\n",
    "                     MAX_IP_PKT_LEN, SRC_TO_DST_SECOND_BYTES, SRC_TO_DST_AVG_THROUGHPUT,\n",
    "                     DST_TO_SRC_AVG_THROUGHPUT, NUM_PKTS_UP_TO_128_BYTES, TCP_WIN_MAX_IN,\n",
    "                     TCP_WIN_MAX_OUT):\n",
    "    \n",
    "    # Normalizar las características\n",
    "    \n",
    "    \n",
    "    X_norm = scaler.transform(datos)\n",
    "    \n",
    "    # Realizar predicciones\n",
    "    prediccion = modelo.predict(X_norm)\n",
    "    \n",
    "    # Convertir predicciones a etiquetas\n",
    "    etiqueta_prediccion = \"Benigno\" if prediccion < 0.5 else \"DDoS\"\n",
    "    \n",
    "    return etiqueta_prediccion\n",
    "\n",
    "# Crear la interfaz gráfica con Gradio\n",
    "gr.Interface(fn=hacer_prediccion, \n",
    "             inputs=X_norm,\n",
    "             outputs=\"text\",\n",
    "             title=\"Detector de ataques de red\",\n",
    "             description=\"Ingresa los valores de las características para predecir si es Benigno o DDoS.\").launch(share=True)\n"
   ]
  },
  {
   "cell_type": "code",
   "execution_count": 35,
   "id": "2b8eaa8b-d181-4646-aee5-281aec4d2cff",
   "metadata": {},
   "outputs": [
    {
     "name": "stdout",
     "output_type": "stream",
     "text": [
      "Running on local URL:  http://127.0.0.1:7879\n",
      "Running on public URL: https://fd193dcca3a6bd20cf.gradio.live\n",
      "\n",
      "This share link expires in 72 hours. For free permanent hosting and GPU upgrades, run `gradio deploy` from Terminal to deploy to Spaces (https://huggingface.co/spaces)\n"
     ]
    },
    {
     "data": {
      "text/html": [
       "<div><iframe src=\"https://fd193dcca3a6bd20cf.gradio.live\" width=\"100%\" height=\"500\" allow=\"autoplay; camera; microphone; clipboard-read; clipboard-write;\" frameborder=\"0\" allowfullscreen></iframe></div>"
      ],
      "text/plain": [
       "<IPython.core.display.HTML object>"
      ]
     },
     "metadata": {},
     "output_type": "display_data"
    },
    {
     "data": {
      "text/plain": []
     },
     "execution_count": 35,
     "metadata": {},
     "output_type": "execute_result"
    },
    {
     "name": "stdout",
     "output_type": "stream",
     "text": [
      "1/1 [==============================] - 0s 55ms/step\n",
      "1/1 [==============================] - 0s 38ms/step\n",
      "1/1 [==============================] - 0s 31ms/step\n",
      "1/1 [==============================] - 0s 33ms/step\n",
      "1/1 [==============================] - 0s 32ms/step\n",
      "1/1 [==============================] - 0s 33ms/step\n",
      "1/1 [==============================] - 0s 36ms/step\n",
      "1/1 [==============================] - 0s 45ms/step\n"
     ]
    }
   ],
   "source": [
    "import pandas as pd\n",
    "from sklearn.preprocessing import MinMaxScaler\n",
    "from tensorflow.keras.models import load_model\n",
    "import gradio as gr\n",
    "\n",
    "# Cargar el modelo\n",
    "modelo = load_model('dnn_rfe_2do.keras')\n",
    "# Cargar datos CSV\n",
    "datos = pd.read_csv('dataset/data/sample_deploy_.csv')\n",
    "# Seleccionar características y objetivo\n",
    "NIDS_features=['L4_DST_PORT', 'L7_PROTO','IN_BYTES','IN_PKTS','OUT_BYTES','OUT_PKTS',\n",
    "                'CLIENT_TCP_FLAGS','FLOW_DURATION_MILLISECONDS','DURATION_IN','DURATION_OUT','MIN_TTL',\n",
    "                'MAX_TTL','LONGEST_FLOW_PKT','SHORTEST_FLOW_PKT','MIN_IP_PKT_LEN','MAX_IP_PKT_LEN',\n",
    "               'SRC_TO_DST_SECOND_BYTES','SRC_TO_DST_AVG_THROUGHPUT','DST_TO_SRC_AVG_THROUGHPUT',\n",
    "               'NUM_PKTS_UP_TO_128_BYTES','TCP_WIN_MAX_IN','TCP_WIN_MAX_OUT']\n",
    "X = datos[NIDS_features]  # Características\n",
    "y = datos['AttackCod']  # Objetivo\n",
    "\n",
    "# Normalizar datos con MinMaxScaler\n",
    "scaler = MinMaxScaler()\n",
    "X_norm = scaler.fit_transform(X)\n",
    "\n",
    "\n",
    "# Definir la función para hacer predicciones\n",
    "def hacer_prediccion(L4_DST_PORT, L7_PROTO, IN_BYTES, IN_PKTS, OUT_BYTES, OUT_PKTS,\n",
    "                     CLIENT_TCP_FLAGS, FLOW_DURATION_MILLISECONDS, DURATION_IN, DURATION_OUT,\n",
    "                     MIN_TTL, MAX_TTL, LONGEST_FLOW_PKT, SHORTEST_FLOW_PKT, MIN_IP_PKT_LEN,\n",
    "                     MAX_IP_PKT_LEN, SRC_TO_DST_SECOND_BYTES, SRC_TO_DST_AVG_THROUGHPUT,\n",
    "                     DST_TO_SRC_AVG_THROUGHPUT, NUM_PKTS_UP_TO_128_BYTES, TCP_WIN_MAX_IN,\n",
    "                     TCP_WIN_MAX_OUT):\n",
    "    prediccion = modelo.predict([[L4_DST_PORT, L7_PROTO, IN_BYTES, IN_PKTS, OUT_BYTES, OUT_PKTS,\n",
    "                                   CLIENT_TCP_FLAGS, FLOW_DURATION_MILLISECONDS, DURATION_IN, DURATION_OUT,\n",
    "                                   MIN_TTL, MAX_TTL, LONGEST_FLOW_PKT, SHORTEST_FLOW_PKT, MIN_IP_PKT_LEN,\n",
    "                                   MAX_IP_PKT_LEN, SRC_TO_DST_SECOND_BYTES, SRC_TO_DST_AVG_THROUGHPUT,\n",
    "                                   DST_TO_SRC_AVG_THROUGHPUT, NUM_PKTS_UP_TO_128_BYTES, TCP_WIN_MAX_IN,\n",
    "                                   TCP_WIN_MAX_OUT]])\n",
    "   \n",
    "    # Realizar predicciones\n",
    "    #prediccion = modelo.predict(X_norm)\n",
    "    \n",
    "    # Convertir predicciones a etiquetas\n",
    "    #etiqueta_prediccion = \"Benigno\" if prediccion < 0.5 else \"DDoS\"\n",
    "    etiqueta_prediccion = [\"Benigno\" if p < 0.5 else \"DDoS\" for p in prediccion]\n",
    "\n",
    "    return etiqueta_prediccion\n",
    "\n",
    "# Ejemplos de datos para la interfaz\n",
    "ejemplos = [\n",
    "[0.0, 0.0, 0.8960498960498962, 0.9999999999999999, 1.0, 1.0, 1.0, 0.9960317460318038, 0.0029761904761904795, 0.1977401129943503, 1.0, 1.0, \n",
    " 0.9999999999999998, 0.5, 0.7692307692307693, 0.9999999999999998, 0.07735104091888012, 0.4642857142857143, 1.0, 1.0, 1.0, 0.9282803867403315],\n",
    "[0.0, 1.0, 0.058212058212058215, 0.33333333333333337, 0.0, 0.0, 0.0, 0.0, 0.9999999999999999, 0.0, 0.0, 0.0, 0.0, 0.0, 0.0, 0.0, 0.5025125628140703,\n",
    " 1.0, 0.0, 0.16666666666666669, 0.0, 0.0],\n",
    "[0.0, 1.0, 0.0, 0.0, 0.0, 0.0, 0.0, 0.03472222222262644, 0.9652777777777777, 0.0, 0.0, 0.0, 0.0, 0.0, 0.0, 0.0, 0.49748743718592964, 1.0, 0.0, \n",
    " 0.0, 0.0, 0.0],\n",
    "[0.0, 0.0, 0.9792099792099793, 0.9999999999999999, 1.0, 1.0, 1.0, 0.9603174603180378, 0.03869047619047619, 0.4011299435028249, 1.0, 1.0,\n",
    " 0.9999999999999998, 0.5, 0.7692307692307693, 0.9999999999999998, 0.08452979181622398, 0.25, 0.4838709677419355, 1.0, 1.0, 0.9282803867403315],\n",
    "[0.0, 1.0, 0.058212058212058215, 0.33333333333333337, 0.0, 0.0, 0.0, 0.056547619047705666, 0.9434523809523809, 0.0, 0.0, 0.0, 0.0, 0.0, 0.0, 0.0, \n",
    " 1.0, 0.0, 0.0, 0.16666666666666669, 0.0, 0.0],\n",
    "[0.0, 1.0, 0.11642411642411643, 0.6666666666666666, 0.0, 0.0, 0.0, 0.1785714285715585, 0.8214285714285714, 0.0, 0.0, 0.0, 0.0, 0.0, 0.0, 0.0,\n",
    " 0.010050251256281407, 0.0, 0.0, 0.3333333333333333, 0.0, 0.0],\n",
    "[1.0, 0.4640883977900552, 0.22453222453222454, 0.33333333333333337, 0.09764603312990411, 0.4, 0.0821917808219178, 1.0, 0.0, 0.1807909604519774,\n",
    " 0.0, 0.0, 0.0337909186906019, 1.0, 1.0, 0.0337909186906019, 0.01938262742282843, 0.14285714285714288, 0.0967741935483871, 0.49999999999999994, \n",
    " 0.44556343938353554, 1.0],\n",
    "[0.0, 0.0, 1.0, 0.9999999999999999, 1.0, 1.0, 1.0, 0.8551587301590189, 0.14384920634920634, 1.0, 1.0, 1.0, 0.9999999999999998, 0.5,\n",
    " 0.7692307692307693, 0.9999999999999998, 0.08632447954055994, 0.10714285714285715, 0.1935483870967742, 1.0, 1.0, 0.9282803867403315],\n",
    "[0.0, 1.0, 0.0, 0.0, 0.0, 0.0, 0.0, 0.4146825396828717, 0.5853174603174602, 0.0, 0.0, 0.0, 0.0, 0.0, 0.0, 0.0, 0.0, 0.0, 0.0, 0.0, 0.0, 0.0],\n",
    "[0.0, 1.0, 0.0, 0.0, 0.0, 0.0, 0.0, 0.6914682539681962, 0.308531746031746, 0.0, 0.0, 0.0, 0.0, 0.0, 0.0, 0.0, 0.0, 0.0, 0.0, 0.0, 0.0, 0.0]\n",
    "]\n",
    "\n",
    "# Crear la interfaz gráfica con Gradio\n",
    "gr.Interface(fn=hacer_prediccion, \n",
    "             inputs=[\"number\", \"number\", \"number\", \"number\", \"number\", \"number\", \n",
    "                     \"number\", \"number\", \"number\", \"number\", \"number\", \"number\", \n",
    "                     \"number\", \"number\", \"number\", \"number\", \"number\", \"number\", \n",
    "                     \"number\", \"number\", \"number\", \"number\"],\n",
    "             outputs=\"text\",\n",
    "             title=\"Detector de ataques de red\",\n",
    "             description=\"Ingresa los valores de las características para predecir si la traza es Benigna o DDoS.\",\n",
    "             examples=ejemplos).launch(share=True)\n"
   ]
  },
  {
   "cell_type": "code",
   "execution_count": 24,
   "id": "2488af09-5157-4a3b-95d0-4f6dc6f36767",
   "metadata": {},
   "outputs": [
    {
     "name": "stdout",
     "output_type": "stream",
     "text": [
      "Running on local URL:  http://127.0.0.1:7872\n",
      "\n",
      "Could not create share link. Please check your internet connection or our status page: https://status.gradio.app.\n"
     ]
    },
    {
     "data": {
      "text/html": [
       "<div><iframe src=\"http://127.0.0.1:7872/\" width=\"100%\" height=\"500\" allow=\"autoplay; camera; microphone; clipboard-read; clipboard-write;\" frameborder=\"0\" allowfullscreen></iframe></div>"
      ],
      "text/plain": [
       "<IPython.core.display.HTML object>"
      ]
     },
     "metadata": {},
     "output_type": "display_data"
    },
    {
     "data": {
      "text/plain": []
     },
     "execution_count": 24,
     "metadata": {},
     "output_type": "execute_result"
    },
    {
     "name": "stdout",
     "output_type": "stream",
     "text": [
      "1/1 [==============================] - 0s 19ms/step\n"
     ]
    },
    {
     "name": "stderr",
     "output_type": "stream",
     "text": [
      "C:\\Users\\johan\\anaconda\\anaconda3\\envs\\dgpu39\\lib\\site-packages\\sklearn\\base.py:493: UserWarning: X does not have valid feature names, but MinMaxScaler was fitted with feature names\n",
      "  warnings.warn(\n"
     ]
    },
    {
     "name": "stdout",
     "output_type": "stream",
     "text": [
      "1/1 [==============================] - 0s 28ms/step\n"
     ]
    },
    {
     "name": "stderr",
     "output_type": "stream",
     "text": [
      "C:\\Users\\johan\\anaconda\\anaconda3\\envs\\dgpu39\\lib\\site-packages\\sklearn\\base.py:493: UserWarning: X does not have valid feature names, but MinMaxScaler was fitted with feature names\n",
      "  warnings.warn(\n"
     ]
    },
    {
     "name": "stdout",
     "output_type": "stream",
     "text": [
      "1/1 [==============================] - 0s 20ms/step\n"
     ]
    },
    {
     "name": "stderr",
     "output_type": "stream",
     "text": [
      "C:\\Users\\johan\\anaconda\\anaconda3\\envs\\dgpu39\\lib\\site-packages\\sklearn\\base.py:493: UserWarning: X does not have valid feature names, but MinMaxScaler was fitted with feature names\n",
      "  warnings.warn(\n"
     ]
    },
    {
     "name": "stdout",
     "output_type": "stream",
     "text": [
      "1/1 [==============================] - 0s 15ms/step\n"
     ]
    },
    {
     "name": "stderr",
     "output_type": "stream",
     "text": [
      "C:\\Users\\johan\\anaconda\\anaconda3\\envs\\dgpu39\\lib\\site-packages\\sklearn\\base.py:493: UserWarning: X does not have valid feature names, but MinMaxScaler was fitted with feature names\n",
      "  warnings.warn(\n"
     ]
    },
    {
     "name": "stdout",
     "output_type": "stream",
     "text": [
      "1/1 [==============================] - 0s 24ms/step\n"
     ]
    },
    {
     "name": "stderr",
     "output_type": "stream",
     "text": [
      "C:\\Users\\johan\\anaconda\\anaconda3\\envs\\dgpu39\\lib\\site-packages\\sklearn\\base.py:493: UserWarning: X does not have valid feature names, but MinMaxScaler was fitted with feature names\n",
      "  warnings.warn(\n"
     ]
    },
    {
     "name": "stdout",
     "output_type": "stream",
     "text": [
      "1/1 [==============================] - 0s 22ms/step\n"
     ]
    },
    {
     "name": "stderr",
     "output_type": "stream",
     "text": [
      "C:\\Users\\johan\\anaconda\\anaconda3\\envs\\dgpu39\\lib\\site-packages\\sklearn\\base.py:493: UserWarning: X does not have valid feature names, but MinMaxScaler was fitted with feature names\n",
      "  warnings.warn(\n"
     ]
    }
   ],
   "source": [
    "# Definir la función para hacer predicciones\n",
    "def hacer_prediccion(L4_DST_PORT, L7_PROTO, IN_BYTES, IN_PKTS, OUT_BYTES, OUT_PKTS,\n",
    "                     CLIENT_TCP_FLAGS, FLOW_DURATION_MILLISECONDS, DURATION_IN, DURATION_OUT,\n",
    "                     MIN_TTL, MAX_TTL, LONGEST_FLOW_PKT, SHORTEST_FLOW_PKT, MIN_IP_PKT_LEN,\n",
    "                     MAX_IP_PKT_LEN, SRC_TO_DST_SECOND_BYTES, SRC_TO_DST_AVG_THROUGHPUT,\n",
    "                     DST_TO_SRC_AVG_THROUGHPUT, NUM_PKTS_UP_TO_128_BYTES, TCP_WIN_MAX_IN,\n",
    "                     TCP_WIN_MAX_OUT):\n",
    "    \n",
    "    # Normalizar las características\n",
    "    datos = [[L4_DST_PORT, L7_PROTO, IN_BYTES, IN_PKTS, OUT_BYTES, OUT_PKTS,\n",
    "              CLIENT_TCP_FLAGS, FLOW_DURATION_MILLISECONDS, DURATION_IN, DURATION_OUT,\n",
    "              MIN_TTL, MAX_TTL, LONGEST_FLOW_PKT, SHORTEST_FLOW_PKT, MIN_IP_PKT_LEN,\n",
    "              MAX_IP_PKT_LEN, SRC_TO_DST_SECOND_BYTES, SRC_TO_DST_AVG_THROUGHPUT,\n",
    "              DST_TO_SRC_AVG_THROUGHPUT, NUM_PKTS_UP_TO_128_BYTES, TCP_WIN_MAX_IN,\n",
    "              TCP_WIN_MAX_OUT]]\n",
    "    \n",
    "    X_norm = scaler.transform(datos)\n",
    "    \n",
    "    # Realizar predicciones\n",
    "    prediccion = modelo.predict(X_norm)\n",
    "    \n",
    "    # Convertir predicciones a etiquetas\n",
    "    etiqueta_prediccion = \"Benigno\" if prediccion < 0.5 else \"DDoS\"\n",
    "    \n",
    "    return etiqueta_prediccion\n",
    "\n",
    "# Ejemplos de datos para la interfaz\n",
    "ejemplos = [\n",
    "    [80, 443, 1.0, 0.004568527918781725, 0.004568527918781725, 0.06598984771573604, 0.36260575296108294],\n",
    "    [6, 17, 0.0, 1.0, 0.03723404255319149, 0.48404255319148937, 0.0],\n",
    "    [1000, 2000, 0.0, 0.009341429238673515, 0.11279775805698271, 0.9999999999999999, 0.0],\n",
    "    [10, 20, 0.0, 0.07407407407407407, 0.14814814814814814, 1.0, 0.0],\n",
    "    [500, 1000, 0.0, 0.0, 0.062208482481831, 1.0, 0.0021694326933506887],\n",
    "    [8, 16, 0.0, 0.0, 0.11627906976744186, 1.0, 0.023255813953488372],\n",
    "    [1, 1, 0.0091324200913242, 0.0, 1.0, 1.0, 0.0091324200913242],\n",
    "    [100, 200, 0.0, 0.9997795075171172, 0.9999999999999999, 0.0, 0.0],\n",
    "    [50, 100, 0.0, 0.9451923076923078, 0.06826923076923078, 0.0, 0.0],\n",
    "    [60, 120, 0.0, 0.0, 1.0, 0.0, 0.0],\n",
    "    [40, 30, 0.0, 0.5, 0.9921875, 1.0, 0.0],\n",
    "    [80, 90, 0.0, 0.5, 0.9921875, 1.0, 0.0],\n",
    "    [120, 130, 0.011095700416088764, 0.0, 0.6567267683772539, 1.0, 0.011095700416088764],\n",
    "    [50, 40, 0.2962962962962963, 0.0, 0.2222222222222222, 0.2222222222222222, 0.2222222222222222],\n",
    "    [100, 80, 0.0, 0.0, 0.4878048780487805, 0.4878048780487805, 0.487804878048]]\n",
    "\n",
    "\n",
    "# Crear la interfaz gráfica con Gradio\n",
    "gr.Interface(fn=hacer_prediccion, \n",
    "             inputs=[\"number\", \"number\", \"number\", \"number\", \"number\", \"number\", \n",
    "                     \"number\", \"number\", \"number\", \"number\", \"number\", \"number\", \n",
    "                     \"number\", \"number\", \"number\", \"number\", \"number\", \"number\", \n",
    "                     \"number\", \"number\", \"number\", \"number\"],\n",
    "             outputs=\"text\",\n",
    "             title=\"Detector de ataques de red\",\n",
    "             description=\"Ingresa los valores de las características para predecir si la traza es Benigna o DDoS.\",\n",
    "             examples=ejemplos).launch(share=True)\n"
   ]
  },
  {
   "cell_type": "markdown",
   "id": "2d914488-5a46-47d7-b5be-106d6020b030",
   "metadata": {
    "jp-MarkdownHeadingCollapsed": true
   },
   "source": [
    "### Interfaz 5"
   ]
  },
  {
   "cell_type": "code",
   "execution_count": 3,
   "id": "c9aa0bdb-3310-4253-9b53-ceff409e4823",
   "metadata": {},
   "outputs": [
    {
     "name": "stdout",
     "output_type": "stream",
     "text": [
      "Running on local URL:  http://127.0.0.1:7862\n",
      "\n",
      "Thanks for being a Gradio user! If you have questions or feedback, please join our Discord server and chat with us: https://discord.gg/feTf9x3ZSB\n",
      "Running on public URL: https://4509c726be95dce010.gradio.live\n",
      "\n",
      "This share link expires in 72 hours. For free permanent hosting and GPU upgrades, run `gradio deploy` from Terminal to deploy to Spaces (https://huggingface.co/spaces)\n"
     ]
    },
    {
     "data": {
      "text/html": [
       "<div><iframe src=\"https://4509c726be95dce010.gradio.live\" width=\"100%\" height=\"500\" allow=\"autoplay; camera; microphone; clipboard-read; clipboard-write;\" frameborder=\"0\" allowfullscreen></iframe></div>"
      ],
      "text/plain": [
       "<IPython.core.display.HTML object>"
      ]
     },
     "metadata": {},
     "output_type": "display_data"
    },
    {
     "data": {
      "text/plain": []
     },
     "execution_count": 3,
     "metadata": {},
     "output_type": "execute_result"
    }
   ],
   "source": [
    "import pandas as pd\n",
    "from sklearn.preprocessing import MinMaxScaler\n",
    "from tensorflow.keras.models import load_model\n",
    "import gradio as gr\n",
    "\n",
    "# Cargar el modelo\n",
    "modelo = load_model('dnn_rfe_2do.keras')\n",
    "# Cargar datos CSV\n",
    "datos = pd.read_csv('dataset/data/sample_deploy_2.csv')\n",
    "# Seleccionar características y objetivo\n",
    "NIDS_features=['L4_DST_PORT', 'L7_PROTO','IN_BYTES','IN_PKTS','OUT_BYTES','OUT_PKTS',\n",
    "                'CLIENT_TCP_FLAGS','FLOW_DURATION_MILLISECONDS','DURATION_IN','DURATION_OUT','MIN_TTL',\n",
    "                'MAX_TTL','LONGEST_FLOW_PKT','SHORTEST_FLOW_PKT','MIN_IP_PKT_LEN','MAX_IP_PKT_LEN',\n",
    "               'SRC_TO_DST_SECOND_BYTES','SRC_TO_DST_AVG_THROUGHPUT','DST_TO_SRC_AVG_THROUGHPUT',\n",
    "               'NUM_PKTS_UP_TO_128_BYTES','TCP_WIN_MAX_IN','TCP_WIN_MAX_OUT']\n",
    "X = datos[NIDS_features]  # Características\n",
    "y = datos['AttackCod']  # Objetivo\n",
    "\n",
    "# Normalizar datos con MinMaxScaler\n",
    "scaler = MinMaxScaler()\n",
    "X_norm = scaler.fit_transform(X)\n",
    "# Convertir X_norm a una lista de listas\n",
    "ejemplos = X_norm.tolist()\n",
    "\n",
    "# Definir la función para hacer predicciones\n",
    "def hacer_prediccion(L4_DST_PORT, L7_PROTO, IN_BYTES, IN_PKTS, OUT_BYTES, OUT_PKTS,\n",
    "                     CLIENT_TCP_FLAGS, FLOW_DURATION_MILLISECONDS, DURATION_IN, DURATION_OUT,\n",
    "                     MIN_TTL, MAX_TTL, LONGEST_FLOW_PKT, SHORTEST_FLOW_PKT, MIN_IP_PKT_LEN,\n",
    "                     MAX_IP_PKT_LEN, SRC_TO_DST_SECOND_BYTES, SRC_TO_DST_AVG_THROUGHPUT,\n",
    "                     DST_TO_SRC_AVG_THROUGHPUT, NUM_PKTS_UP_TO_128_BYTES, TCP_WIN_MAX_IN,\n",
    "                     TCP_WIN_MAX_OUT):\n",
    "    datos = [[L4_DST_PORT, L7_PROTO, IN_BYTES, IN_PKTS, OUT_BYTES, OUT_PKTS,\n",
    "              CLIENT_TCP_FLAGS, FLOW_DURATION_MILLISECONDS, DURATION_IN, DURATION_OUT,\n",
    "              MIN_TTL, MAX_TTL, LONGEST_FLOW_PKT, SHORTEST_FLOW_PKT, MIN_IP_PKT_LEN,\n",
    "              MAX_IP_PKT_LEN, SRC_TO_DST_SECOND_BYTES, SRC_TO_DST_AVG_THROUGHPUT,\n",
    "              DST_TO_SRC_AVG_THROUGHPUT, NUM_PKTS_UP_TO_128_BYTES, TCP_WIN_MAX_IN,\n",
    "              TCP_WIN_MAX_OUT]]\n",
    "    # Realizar predicción sobre los datos de entrada\n",
    "    prediccion = modelo.predict(datos)\n",
    "    \n",
    "    # Convertir predicciones a etiquetas\n",
    "    etiqueta_prediccion = [\"Benigno\" if p < 0.5 else \"DDoS\" for p in prediccion]\n",
    "    \n",
    "    # Obtener el valor real\n",
    "    valor_real = \"Benigno\" if y.iloc[0] == 0 else \"DDoS\"  # Suponiendo que 'y' contiene los valores reales\n",
    "    \n",
    "    return etiqueta_prediccion, valor_real\n",
    "\n",
    "\n",
    "# Definir los tipos de salida con etiquetas\n",
    "output_prediccion = gr.Textbox(label=\"Predicción\")\n",
    "output_valor_real = gr.Textbox(label=\"Valor Real\")\n",
    "\n",
    "\n",
    "# Crear la interfaz gráfica con Gradio\n",
    "gr.Interface(fn=hacer_prediccion, \n",
    "             inputs=[\"number\", \"number\", \"number\", \"number\", \"number\", \"number\", \n",
    "                     \"number\", \"number\", \"number\", \"number\", \"number\", \"number\", \n",
    "                     \"number\", \"number\", \"number\", \"number\", \"number\", \"number\", \n",
    "                     \"number\", \"number\", \"number\", \"number\"],                       \n",
    "             outputs=[output_prediccion, output_valor_real],\n",
    "             title=\"SISTEMA DE DETECCIÓN DE ATAQUES DDOS EN REDES\",\n",
    "             description=\"Ingresa alguno de los registros de trafico de ejemplo para predecir si\n",
    "             se trata de un registro de trafico Benigno o un ataque DDoS.\",\n",
    "             examples=ejemplos).launch(share=True)"
   ]
  }
 ],
 "metadata": {
  "kernelspec": {
   "display_name": "dgpu39",
   "language": "python",
   "name": "dgpu39"
  },
  "language_info": {
   "codemirror_mode": {
    "name": "ipython",
    "version": 3
   },
   "file_extension": ".py",
   "mimetype": "text/x-python",
   "name": "python",
   "nbconvert_exporter": "python",
   "pygments_lexer": "ipython3",
   "version": "3.9.18"
  }
 },
 "nbformat": 4,
 "nbformat_minor": 5
}
