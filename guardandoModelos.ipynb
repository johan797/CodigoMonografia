{
 "cells": [
  {
   "cell_type": "markdown",
   "id": "b2fde26f-5c42-4ca7-8cf3-d149da4f01d0",
   "metadata": {},
   "source": [
    "### Guardar modelos"
   ]
  },
  {
   "cell_type": "markdown",
   "id": "50632c39-337f-4918-8c2b-9436b67c6ae6",
   "metadata": {},
   "source": [
    "Sí, puedes guardar los valores (pesos y sesgos) de un modelo de deep learning ya entrenado para no tener que volver a entrenarlo cada vez que quieras usarlo. Esto es especialmente útil cuando deseas utilizar el modelo en otro momento o lugar, compartirlo con otros o utilizarlo en aplicaciones en producción. Hay varias formas de guardar y cargar modelos en deep learning, y la elección dependerá de la biblioteca que estés utilizando. Aquí te muestro cómo hacerlo con TensorFlow y Keras, que es una de las bibliotecas más populares para deep learning en Python:\n",
    "\n",
    "Guardar un modelo entrenado en TensorFlow/Keras:\n",
    "\n",
    "Guardar el modelo completo (arquitectura, pesos y configuración):"
   ]
  },
  {
   "cell_type": "code",
   "execution_count": null,
   "id": "e6b95041-2228-4fa5-9225-b028e23c640e",
   "metadata": {},
   "outputs": [],
   "source": [
    "# Guardar el modelo en un archivo H5\n",
    "model.save('mi_modelo.h5')\n"
   ]
  },
  {
   "cell_type": "code",
   "execution_count": null,
   "id": "aacc16a9-6e58-4928-841c-e0147699ca3e",
   "metadata": {},
   "outputs": [],
   "source": [
    "Guardar solo los pesos:"
   ]
  },
  {
   "cell_type": "code",
   "execution_count": null,
   "id": "55fd664d-bb1a-41cd-b143-9822b8b969ac",
   "metadata": {},
   "outputs": [],
   "source": [
    "# Guardar los pesos en un archivo\n",
    "model.save_weights('pesos_modelo.h5')"
   ]
  },
  {
   "cell_type": "code",
   "execution_count": null,
   "id": "a7efa5ef-31e0-4e00-a410-e0a07c1062b2",
   "metadata": {},
   "outputs": [],
   "source": [
    "Cargar un modelo entrenado en TensorFlow/Keras:\n",
    "\n",
    "Cargar un modelo completo:"
   ]
  },
  {
   "cell_type": "code",
   "execution_count": null,
   "id": "9ef2dd0a-2da7-463e-a907-8e11f83041b4",
   "metadata": {},
   "outputs": [],
   "source": [
    "from tensorflow.keras.models import load_model\n",
    "\n",
    "# Cargar el modelo desde un archivo H5\n",
    "model = load_model('mi_modelo.h5')\n"
   ]
  },
  {
   "cell_type": "code",
   "execution_count": null,
   "id": "b69ad94a-57ec-443d-a4d3-ec978b8f673f",
   "metadata": {},
   "outputs": [],
   "source": [
    "Cargar solo los pesos:"
   ]
  },
  {
   "cell_type": "code",
   "execution_count": null,
   "id": "129f5060-d0e2-4624-8f40-f6f3c7466d1d",
   "metadata": {},
   "outputs": [],
   "source": [
    "# Cargar los pesos en el modelo\n",
    "model.load_weights('pesos_modelo.h5')\n"
   ]
  },
  {
   "cell_type": "markdown",
   "id": "666e8716-95b2-49f9-8e1d-f9094d427095",
   "metadata": {},
   "source": [
    "Una vez que hayas cargado el modelo o los pesos, puedes usarlo para hacer predicciones o continuar el entrenamiento si es necesario.\n",
    "\n",
    "Recuerda que al cargar un modelo, debe ser del mismo tipo y arquitectura que cuando se guardó originalmente. Si realizas cambios en la arquitectura del modelo después de cargar los pesos, podría generar errores."
   ]
  },
  {
   "cell_type": "markdown",
   "id": "ac278fac-640f-49af-a24d-d1450cd73873",
   "metadata": {},
   "source": [
    "### guardar history"
   ]
  },
  {
   "cell_type": "markdown",
   "id": "db6b2d22-376e-41a7-8200-165fd90be35c",
   "metadata": {},
   "source": [
    "puedes guardar el historial de entrenamiento (history) en un objeto Python y luego guardar ese objeto en un archivo para su uso posterior. El historial de entrenamiento generalmente es un diccionario que contiene métricas de entrenamiento, pérdida y validación en cada época.\n",
    "\n",
    "Aquí tienes un ejemplo de cómo guardar y cargar el historial de entrenamiento utilizando la biblioteca pickle en Python:\n",
    "\n",
    "Para guardar el historial de entrenamiento en un archivo:"
   ]
  },
  {
   "cell_type": "code",
   "execution_count": null,
   "id": "4629c854-ef69-43dc-b22d-3558ee989243",
   "metadata": {},
   "outputs": [],
   "source": [
    "import pickle\n",
    "\n",
    "# Después de entrenar tu modelo y obtener el objeto 'history'\n",
    "history = model.fit(X_train, y_train, epochs=10, batch_size=32, validation_data=(X_val, y_val))\n",
    "\n",
    "# Guardar el historial de entrenamiento en un archivo\n",
    "with open('history.pkl', 'wb') as file:\n",
    "    pickle.dump(history.history, file)\n"
   ]
  },
  {
   "cell_type": "code",
   "execution_count": null,
   "id": "6338c9a6-a17c-4fc5-bf51-3999be6754c9",
   "metadata": {},
   "outputs": [],
   "source": [
    "Para cargar el historial de entrenamiento desde un archivo:"
   ]
  },
  {
   "cell_type": "code",
   "execution_count": null,
   "id": "ffc4d184-ce10-4a80-b46d-cf13c337682b",
   "metadata": {},
   "outputs": [],
   "source": [
    "import pickle\n",
    "\n",
    "# Cargar el historial de entrenamiento desde un archivo\n",
    "with open('history.pkl', 'rb') as file:\n",
    "    loaded_history = pickle.load(file)\n",
    "\n",
    "# Ahora 'loaded_history' contiene el historial de entrenamiento que guardaste anteriormente\n"
   ]
  },
  {
   "cell_type": "markdown",
   "id": "d502714c-6bdd-4f16-99b0-076ebd4023eb",
   "metadata": {},
   "source": [
    "Recuerda que el uso de pickle para guardar y cargar objetos es específico de Python y puede no ser compatible entre diferentes versiones de Python o entre sistemas operativos. Si necesitas una solución más portable, considera usar otros formatos de almacenamiento como JSON o HDF5."
   ]
  }
 ],
 "metadata": {
  "kernelspec": {
   "display_name": "Deeplearning1",
   "language": "python",
   "name": "deeplearning1"
  },
  "language_info": {
   "codemirror_mode": {
    "name": "ipython",
    "version": 3
   },
   "file_extension": ".py",
   "mimetype": "text/x-python",
   "name": "python",
   "nbconvert_exporter": "python",
   "pygments_lexer": "ipython3",
   "version": "3.10.13"
  }
 },
 "nbformat": 4,
 "nbformat_minor": 5
}
