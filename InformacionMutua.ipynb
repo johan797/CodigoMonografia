{
 "cells": [
  {
   "cell_type": "markdown",
   "id": "d5b9e347-fd1a-4c17-b8dd-9d3cf9f077b8",
   "metadata": {},
   "source": [
    "### Informacion Mutua\n"
   ]
  },
  {
   "cell_type": "code",
   "execution_count": 1,
   "id": "e3616c73-0a8a-4f0b-b4fb-5cdae193d0ad",
   "metadata": {
    "tags": []
   },
   "outputs": [],
   "source": [
    "import pandas as pd\n",
    "import numpy as np"
   ]
  },
  {
   "cell_type": "code",
   "execution_count": 2,
   "id": "4ca50643-5e5d-4f79-aba1-45b393ad85a6",
   "metadata": {
    "tags": []
   },
   "outputs": [],
   "source": [
    "df = pd.read_csv('dataset/data/sample_1M_DDoS.csv')"
   ]
  },
  {
   "cell_type": "code",
   "execution_count": 3,
   "id": "32c426f4-1c8c-4f7b-801c-c01e30531b25",
   "metadata": {
    "tags": []
   },
   "outputs": [
    {
     "name": "stdout",
     "output_type": "stream",
     "text": [
      "<class 'pandas.core.frame.DataFrame'>\n",
      "RangeIndex: 1016029 entries, 0 to 1016028\n",
      "Data columns (total 44 columns):\n",
      " #   Column                       Non-Null Count    Dtype\n",
      "---  ------                       --------------    -----\n",
      " 0   L4_SRC_PORT                  1016029 non-null  int64\n",
      " 1   L4_DST_PORT                  1016029 non-null  int64\n",
      " 2   PROTOCOL                     1016029 non-null  int64\n",
      " 3   L7_PROTO                     1016029 non-null  int64\n",
      " 4   IN_BYTES                     1016029 non-null  int64\n",
      " 5   IN_PKTS                      1016029 non-null  int64\n",
      " 6   OUT_BYTES                    1016029 non-null  int64\n",
      " 7   OUT_PKTS                     1016029 non-null  int64\n",
      " 8   TCP_FLAGS                    1016029 non-null  int64\n",
      " 9   CLIENT_TCP_FLAGS             1016029 non-null  int64\n",
      " 10  SERVER_TCP_FLAGS             1016029 non-null  int64\n",
      " 11  FLOW_DURATION_MILLISECONDS   1016029 non-null  int64\n",
      " 12  DURATION_IN                  1016029 non-null  int64\n",
      " 13  DURATION_OUT                 1016029 non-null  int64\n",
      " 14  MIN_TTL                      1016029 non-null  int64\n",
      " 15  MAX_TTL                      1016029 non-null  int64\n",
      " 16  LONGEST_FLOW_PKT             1016029 non-null  int64\n",
      " 17  SHORTEST_FLOW_PKT            1016029 non-null  int64\n",
      " 18  MIN_IP_PKT_LEN               1016029 non-null  int64\n",
      " 19  MAX_IP_PKT_LEN               1016029 non-null  int64\n",
      " 20  SRC_TO_DST_SECOND_BYTES      1016029 non-null  int64\n",
      " 21  DST_TO_SRC_SECOND_BYTES      1016029 non-null  int64\n",
      " 22  RETRANSMITTED_IN_BYTES       1016029 non-null  int64\n",
      " 23  RETRANSMITTED_IN_PKTS        1016029 non-null  int64\n",
      " 24  RETRANSMITTED_OUT_BYTES      1016029 non-null  int64\n",
      " 25  RETRANSMITTED_OUT_PKTS       1016029 non-null  int64\n",
      " 26  SRC_TO_DST_AVG_THROUGHPUT    1016029 non-null  int64\n",
      " 27  DST_TO_SRC_AVG_THROUGHPUT    1016029 non-null  int64\n",
      " 28  NUM_PKTS_UP_TO_128_BYTES     1016029 non-null  int64\n",
      " 29  NUM_PKTS_128_TO_256_BYTES    1016029 non-null  int64\n",
      " 30  NUM_PKTS_256_TO_512_BYTES    1016029 non-null  int64\n",
      " 31  NUM_PKTS_512_TO_1024_BYTES   1016029 non-null  int64\n",
      " 32  NUM_PKTS_1024_TO_1514_BYTES  1016029 non-null  int64\n",
      " 33  TCP_WIN_MAX_IN               1016029 non-null  int64\n",
      " 34  TCP_WIN_MAX_OUT              1016029 non-null  int64\n",
      " 35  ICMP_TYPE                    1016029 non-null  int64\n",
      " 36  ICMP_IPV4_TYPE               1016029 non-null  int64\n",
      " 37  DNS_QUERY_ID                 1016029 non-null  int64\n",
      " 38  DNS_QUERY_TYPE               1016029 non-null  int64\n",
      " 39  DNS_TTL_ANSWER               1016029 non-null  int64\n",
      " 40  FTP_COMMAND_RET_CODE         1016029 non-null  int64\n",
      " 41  Label                        1016029 non-null  int64\n",
      " 42  Dataset                      1016029 non-null  int64\n",
      " 43  AttackCod                    1016029 non-null  int64\n",
      "dtypes: int64(44)\n",
      "memory usage: 341.1 MB\n"
     ]
    }
   ],
   "source": [
    "df.info()"
   ]
  },
  {
   "cell_type": "code",
   "execution_count": 4,
   "id": "3d430d64-52aa-4e59-8f5e-612e8ccb0192",
   "metadata": {
    "tags": []
   },
   "outputs": [
    {
     "name": "stdout",
     "output_type": "stream",
     "text": [
      "LONGEST_FLOW_PKT               0.630603\n",
      "MAX_IP_PKT_LEN                 0.629749\n",
      "SRC_TO_DST_SECOND_BYTES        0.620295\n",
      "IN_BYTES                       0.596368\n",
      "SRC_TO_DST_AVG_THROUGHPUT      0.528637\n",
      "SHORTEST_FLOW_PKT              0.520335\n",
      "CLIENT_TCP_FLAGS               0.486392\n",
      "L7_PROTO                       0.483028\n",
      "TCP_FLAGS                      0.474659\n",
      "TCP_WIN_MAX_IN                 0.452512\n",
      "PROTOCOL                       0.336880\n",
      "NUM_PKTS_UP_TO_128_BYTES       0.316120\n",
      "FLOW_DURATION_MILLISECONDS     0.240758\n",
      "DURATION_IN                    0.240427\n",
      "NUM_PKTS_128_TO_256_BYTES      0.236248\n",
      "DST_TO_SRC_SECOND_BYTES        0.164751\n",
      "OUT_BYTES                      0.164296\n",
      "DST_TO_SRC_AVG_THROUGHPUT      0.131824\n",
      "MAX_TTL                        0.106959\n",
      "MIN_TTL                        0.106172\n",
      "IN_PKTS                        0.101071\n",
      "OUT_PKTS                       0.089857\n",
      "L4_DST_PORT                    0.085361\n",
      "ICMP_TYPE                      0.060398\n",
      "ICMP_IPV4_TYPE                 0.060284\n",
      "RETRANSMITTED_IN_PKTS          0.060040\n",
      "RETRANSMITTED_IN_BYTES         0.059831\n",
      "SERVER_TCP_FLAGS               0.059159\n",
      "MIN_IP_PKT_LEN                 0.052960\n",
      "TCP_WIN_MAX_OUT                0.050414\n",
      "Dataset                        0.038014\n",
      "DURATION_OUT                   0.023739\n",
      "L4_SRC_PORT                    0.020823\n",
      "DNS_QUERY_ID                   0.020130\n",
      "DNS_QUERY_TYPE                 0.019944\n",
      "NUM_PKTS_256_TO_512_BYTES      0.013070\n",
      "NUM_PKTS_1024_TO_1514_BYTES    0.012908\n",
      "DNS_TTL_ANSWER                 0.010138\n",
      "NUM_PKTS_512_TO_1024_BYTES     0.009141\n",
      "RETRANSMITTED_OUT_BYTES        0.006117\n",
      "RETRANSMITTED_OUT_PKTS         0.006087\n",
      "FTP_COMMAND_RET_CODE           0.001129\n",
      "Label                          0.000000\n",
      "Name: MI Scores, dtype: float64\n"
     ]
    }
   ],
   "source": [
    "from sklearn.feature_selection import mutual_info_regression\n",
    "\n",
    "X = df.copy()\n",
    "y = X.pop(\"AttackCod\")\n",
    "\n",
    "\n",
    "# Todas las caracteristicas deberían ser de tipo de números enteros (¡verifique esto antes de usar MI!)\n",
    "discrete_features = X.dtypes == int\n",
    "\n",
    "def make_mi_scores(X, y, discrete_features):\n",
    "    mi_scores = mutual_info_regression(X, y, discrete_features=discrete_features)\n",
    "    mi_scores = pd.Series(mi_scores, name=\"MI Scores\", index=X.columns)\n",
    "    mi_scores = mi_scores.sort_values(ascending=False)\n",
    "    return mi_scores\n",
    "\n",
    "mi_scores = make_mi_scores(X, y, discrete_features)\n",
    "print(mi_scores)"
   ]
  },
  {
   "cell_type": "code",
   "execution_count": null,
   "id": "63cde640-4f16-451f-9962-97b9bf50dc90",
   "metadata": {},
   "outputs": [],
   "source": []
  }
 ],
 "metadata": {
  "kernelspec": {
   "display_name": "tf",
   "language": "python",
   "name": "tf"
  },
  "language_info": {
   "codemirror_mode": {
    "name": "ipython",
    "version": 3
   },
   "file_extension": ".py",
   "mimetype": "text/x-python",
   "name": "python",
   "nbconvert_exporter": "python",
   "pygments_lexer": "ipython3",
   "version": "3.9.18"
  }
 },
 "nbformat": 4,
 "nbformat_minor": 5
}
