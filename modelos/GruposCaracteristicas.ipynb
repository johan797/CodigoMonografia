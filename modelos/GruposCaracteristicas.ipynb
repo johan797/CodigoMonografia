{
 "cells": [
  {
   "cell_type": "markdown",
   "id": "f456e2ea-4e5a-4c0e-965d-21144055b71c",
   "metadata": {},
   "source": [
    "## Grupos de caracteristicas"
   ]
  },
  {
   "cell_type": "code",
   "execution_count": null,
   "id": "20211a2e-2faf-477c-8fdf-663485064e78",
   "metadata": {},
   "outputs": [],
   "source": [
    "Todas las caracteristicas"
   ]
  },
  {
   "cell_type": "code",
   "execution_count": null,
   "id": "2c829f77-ffdc-4731-bcbd-201120e1c4ca",
   "metadata": {},
   "outputs": [],
   "source": [
    "NIDS_features =['L4_SRC_PORT', 'L4_DST_PORT', 'PROTOCOL', 'L7_PROTO', 'IN_BYTES', \n",
    "                'IN_PKTS', 'OUT_BYTES', 'OUT_PKTS', 'TCP_FLAGS', 'CLIENT_TCP_FLAGS', \n",
    "                'SERVER_TCP_FLAGS', 'FLOW_DURATION_MILLISECONDS', 'DURATION_IN', 'DURATION_OUT', \n",
    "                'MIN_TTL', 'MAX_TTL', 'LONGEST_FLOW_PKT', 'SHORTEST_FLOW_PKT', 'MIN_IP_PKT_LEN', 'MAX_IP_PKT_LEN', \n",
    "                'SRC_TO_DST_SECOND_BYTES', 'DST_TO_SRC_SECOND_BYTES', 'RETRANSMITTED_IN_BYTES', 'RETRANSMITTED_IN_PKTS', 'RETRANSMITTED_OUT_BYTES', \n",
    "                'RETRANSMITTED_OUT_PKTS', 'SRC_TO_DST_AVG_THROUGHPUT', 'DST_TO_SRC_AVG_THROUGHPUT', 'NUM_PKTS_UP_TO_128_BYTES', 'NUM_PKTS_128_TO_256_BYTES',\n",
    "                'NUM_PKTS_256_TO_512_BYTES', 'NUM_PKTS_512_TO_1024_BYTES', 'NUM_PKTS_1024_TO_1514_BYTES', 'TCP_WIN_MAX_IN', 'TCP_WIN_MAX_OUT', 'ICMP_TYPE',\n",
    "                'ICMP_IPV4_TYPE', 'DNS_QUERY_ID', 'DNS_QUERY_TYPE', 'DNS_TTL_ANSWER', 'FTP_COMMAND_RET_CODE']"
   ]
  },
  {
   "cell_type": "code",
   "execution_count": null,
   "id": "c19291a1-2316-483d-9f0e-708fe7e8e044",
   "metadata": {},
   "outputs": [],
   "source": [
    "correlacion pearson 22"
   ]
  },
  {
   "cell_type": "code",
   "execution_count": null,
   "id": "d4238f75-d581-4114-abd4-e968eb3b645c",
   "metadata": {},
   "outputs": [],
   "source": [
    "NIDS_features=['FLOW_DURATION_MILLISECONDS','L7_PROTO','PROTOCOL','DURATION_IN','MIN_TTL',\n",
    "               'MAX_TTL','DURATION_OUT','FTP_COMMAND_RET_CODE','DST_TO_SRC_AVG_THROUGHPUT',\n",
    "               'SRC_TO_DST_AVG_THROUGHPUT','ICMP_IPV4_TYPE','ICMP_TYPE','CLIENT_TCP_FLAGS',\n",
    "               'TCP_FLAGS','L4_DST_PORT','TCP_WIN_MAX_OUT','SERVER_TCP_FLAGS','L4_SRC_PORT',\n",
    "               'LONGEST_FLOW_PKT','DNS_QUERY_ID','SHORTEST_FLOW_PKT','MIN_IP_PKT_LEN','RETRANSMITTED_OUT_PKTS','DNS_QUERY_TYPE']"
   ]
  },
  {
   "cell_type": "code",
   "execution_count": null,
   "id": "45392837-560a-4006-b1a1-e35f9405400f",
   "metadata": {},
   "outputs": [],
   "source": [
    "Mutual information 24"
   ]
  },
  {
   "cell_type": "code",
   "execution_count": null,
   "id": "a13d64d6-d68a-4b2c-a324-666e696bd03a",
   "metadata": {},
   "outputs": [],
   "source": [
    "NIDS_features=['MAX_IP_PKT_LEN','LONGEST_FLOW_PKT','SRC_TO_DST_SECOND_BYTES','IN_BYTES',\n",
    "                'SRC_TO_DST_AVG_THROUGHPUT','MIN_TTL','MAX_TTL','L7_PROTO','FLOW_DURATION_MILLISECONDS',\n",
    "                'DURATION_IN','L4_DST_PORT','SHORTEST_FLOW_PKT','DST_TO_SRC_SECOND_BYTES','OUT_BYTES',\n",
    "                'IN_PKTS','DST_TO_SRC_AVG_THROUGHPUT','OUT_PKTS','MIN_IP_PKT_LEN','TCP_WIN_MAX_IN',\n",
    "                'NUM_PKTS_UP_TO_128_BYTES','TCP_FLAGS','CLIENT_TCP_FLAGS','TCP_WIN_MAX_OUT','L4_SRC_PORT']"
   ]
  },
  {
   "cell_type": "code",
   "execution_count": null,
   "id": "44da90e4-233d-4442-a466-42680e6b4433",
   "metadata": {},
   "outputs": [],
   "source": [
    "RFE 22"
   ]
  },
  {
   "cell_type": "code",
   "execution_count": null,
   "id": "6ae36dab-5c09-4992-b11c-237662d44abd",
   "metadata": {},
   "outputs": [],
   "source": [
    "NIDS_features=['L4_DST_PORT', 'L7_PROTO','IN_BYTES','IN_PKTS','OUT_BYTES','OUT_PKTS',\n",
    "                'CLIENT_TCP_FLAGS','FLOW_DURATION_MILLISECONDS','DURATION_IN','DURATION_OUT','MIN_TTL',\n",
    "                'MAX_TTL','LONGEST_FLOW_PKT','SHORTEST_FLOW_PKT','MIN_IP_PKT_LEN','MAX_IP_PKT_LEN',\n",
    "               'SRC_TO_DST_SECOND_BYTES','SRC_TO_DST_AVG_THROUGHPUT','DST_TO_SRC_AVG_THROUGHPUT',\n",
    "               'NUM_PKTS_UP_TO_128_BYTES','TCP_WIN_MAX_IN','TCP_WIN_MAX_OUT']"
   ]
  },
  {
   "cell_type": "code",
   "execution_count": null,
   "id": "5a9d2a5b-97f8-4029-aebf-20b97bea9dd4",
   "metadata": {},
   "outputs": [],
   "source": [
    "NIDS_features=['L4_SRC_PORT',\n",
    "'L4_DST_PORT',\n",
    "'L7_PROTO',\n",
    "'IN_BYTES',\n",
    "'IN_PKTS',\n",
    "'OUT_BYTES',\n",
    "'OUT_PKTS',\n",
    "'CLIENT_TCP_FLAGS',\n",
    "'FLOW_DURATION_MILLISECONDS',\n",
    "'DURATION_IN',\n",
    "'DURATION_OUT',\n",
    "'MIN_TTL',\n",
    "'MAX_TTL',\n",
    "'LONGEST_FLOW_PKT',\n",
    "'SHORTEST_FLOW_PKT',\n",
    "'MIN_IP_PKT_LEN',\n",
    "'MAX_IP_PKT_LEN',\n",
    "'SRC_TO_DST_SECOND_BYTES',\n",
    "'DST_TO_SRC_SECOND_BYTES',\n",
    "'SRC_TO_DST_AVG_THROUGHPUT',\n",
    "'DST_TO_SRC_AVG_THROUGHPUT',\n",
    "'NUM_PKTS_UP_TO_128_BYTES',\n",
    "'TCP_WIN_MAX_IN',\n",
    "'TCP_WIN_MAX_OUT'\n",
    "]"
   ]
  }
 ],
 "metadata": {
  "kernelspec": {
   "display_name": "Python 3 (ipykernel)",
   "language": "python",
   "name": "python3"
  },
  "language_info": {
   "codemirror_mode": {
    "name": "ipython",
    "version": 3
   },
   "file_extension": ".py",
   "mimetype": "text/x-python",
   "name": "python",
   "nbconvert_exporter": "python",
   "pygments_lexer": "ipython3",
   "version": "3.9.18"
  }
 },
 "nbformat": 4,
 "nbformat_minor": 5
}
