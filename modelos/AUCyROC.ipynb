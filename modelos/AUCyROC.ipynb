{
 "cells": [
  {
   "cell_type": "markdown",
   "id": "3b0c3463-d3bf-4c74-a3f8-3fe5be751fe1",
   "metadata": {},
   "source": [
    "## AUC y ROC"
   ]
  },
  {
   "cell_type": "markdown",
   "id": "4e497b64-441a-46bd-990f-0b8c2be17ad3",
   "metadata": {},
   "source": [
    "se puede utilizar la curva ROC (Receiver Operating Characteristic) y el área bajo la curva ROC (AUC, Area Under the Curve) para evaluar modelos LSTM, CNN (Convolutional Neural Network) y DNN (Deep Neural Network) en problemas de clasificación binaria. Estas métricas son ampliamente utilizadas para evaluar la capacidad de discriminación de modelos de clasificación en problemas binarios.\n",
    "\n",
    "Curva ROC: La curva ROC representa la tasa de verdaderos positivos (Sensibilidad o Recall) frente a la tasa de falsos positivos (1 - Especificidad) en diferentes umbrales de decisión. Proporciona información sobre cómo varía el rendimiento del modelo a medida que ajusta el umbral de decisión. Una curva ROC ideal se acercaría al vértice superior izquierdo, lo que indica una alta sensibilidad y baja tasa de falsos positivos.\n",
    "\n",
    "Área bajo la curva ROC (AUC): El AUC es una medida numérica que resume el rendimiento global de la curva ROC. Cuanto mayor sea el AUC, mejor será el rendimiento del modelo en la clasificación binaria. Un AUC de 1 indica un rendimiento perfecto, mientras que un AUC de 0.5 indica un rendimiento similar al azar.\n",
    "\n",
    "Puedes calcular y evaluar la curva ROC y el AUC para tus modelos LSTM, CNN y DNN utilizando bibliotecas como Scikit-Learn o TensorFlow/Keras en Python. Aquí hay un ejemplo de cómo hacerlo utilizando Scikit-Learn:"
   ]
  },
  {
   "cell_type": "code",
   "execution_count": null,
   "id": "30f1e142-bdb8-49c4-bc45-6896ceaafd94",
   "metadata": {},
   "outputs": [],
   "source": [
    "from sklearn.metrics import roc_curve, roc_auc_score\n",
    "import matplotlib.pyplot as plt\n",
    "\n",
    "# Obtener las probabilidades de predicción del modelo (debe ser un valor entre 0 y 1)\n",
    "y_pred_prob = model.predict_proba(X_test)\n",
    "\n",
    "# Calcular el AUC\n",
    "auc = roc_auc_score(y_test, y_pred_prob)\n",
    "\n",
    "# Calcular la curva ROC\n",
    "fpr, tpr, thresholds = roc_curve(y_test, y_pred_prob)\n",
    "\n",
    "# Graficar la curva ROC\n",
    "plt.figure(figsize=(8, 6))\n",
    "plt.plot(fpr, tpr, label=f'AUC = {auc:.2f}')\n",
    "plt.plot([0, 1], [0, 1], linestyle='--', color='gray', label='Random')\n",
    "plt.xlabel('False Positive Rate')\n",
    "plt.ylabel('True Positive Rate (Sensitivity)')\n",
    "plt.title('Curva ROC')\n",
    "plt.legend()\n",
    "plt.show()\n"
   ]
  },
  {
   "cell_type": "markdown",
   "id": "842f61a8-48ef-4ec5-963b-1753062c4bbc",
   "metadata": {},
   "source": [
    "Este código calcula la curva ROC y el AUC para un modelo y grafica la curva ROC junto con una línea de referencia aleatoria. Puedes adaptar este código para tus modelos LSTM, CNN y DNN y evaluar su rendimiento en problemas de clasificación binaria.\n",
    "\n",
    "\n",
    "\n",
    "\n",
    "\n",
    "\n",
    "\n"
   ]
  },
  {
   "cell_type": "code",
   "execution_count": null,
   "id": "215ecc96-cef5-47eb-b9d4-8a28ee5142e9",
   "metadata": {},
   "outputs": [],
   "source": []
  }
 ],
 "metadata": {
  "kernelspec": {
   "display_name": "Deeplearning1",
   "language": "python",
   "name": "deeplearning1"
  },
  "language_info": {
   "codemirror_mode": {
    "name": "ipython",
    "version": 3
   },
   "file_extension": ".py",
   "mimetype": "text/x-python",
   "name": "python",
   "nbconvert_exporter": "python",
   "pygments_lexer": "ipython3",
   "version": "3.10.13"
  }
 },
 "nbformat": 4,
 "nbformat_minor": 5
}
