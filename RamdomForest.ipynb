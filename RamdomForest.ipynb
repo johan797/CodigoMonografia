{
 "cells": [
  {
   "cell_type": "markdown",
   "id": "a7512cb3-9f94-421e-9a73-530028301779",
   "metadata": {
    "tags": []
   },
   "source": [
    "# RAMDOM FOREST PRUEBA"
   ]
  },
  {
   "cell_type": "markdown",
   "id": "d79dfc0c-855b-4728-a9d0-218aad962a01",
   "metadata": {
    "jp-MarkdownHeadingCollapsed": true,
    "tags": []
   },
   "source": [
    "#### **La diferencia entre \"Random Forest\" y \"Random Tree\"**."
   ]
  },
  {
   "cell_type": "markdown",
   "id": "07263211-093a-45e0-a876-e575222f1682",
   "metadata": {},
   "source": [
    " Ambos son técnicas basadas en árboles de decisión, pero tienen propiedades y usos distintos:\n",
    "\n",
    "Random Tree (Árbol Aleatorio):\n",
    "\n",
    "Es un único árbol de decisión que se construye de manera aleatoria.\n",
    "Durante la construcción del árbol, al momento de dividir un nodo, se selecciona un subconjunto aleatorio de características en lugar de considerar todas las características disponibles. Esto le da el carácter \"aleatorio\" al árbol.\n",
    "El árbol aleatorio puede ser propenso al sobreajuste si se le permite crecer sin restricciones, especialmente si el conjunto de datos tiene muchas características o es ruidoso.\n",
    "Es más simple y rápido de construir que un bosque aleatorio.\n",
    "Random Forest (Bosque Aleatorio):\n",
    "\n",
    "Es un conjunto (ensamblado) de árboles de decisión, comúnmente árboles aleatorios.\n",
    "Durante el entrenamiento, cada árbol se construye usando un subconjunto aleatorio de los datos (esto se llama \"bootstrap\" de los datos). Además, al igual que en el árbol aleatorio, durante la construcción de cada árbol, se selecciona un subconjunto aleatorio de características en cada división.\n",
    "El propósito de usar múltiples árboles es reducir la varianza y el riesgo de sobreajuste. Las predicciones del bosque aleatorio se obtienen promediando las predicciones (en problemas de regresión) o haciendo una votación (en problemas de clasificación) de todos los árboles en el ensamblado.\n",
    "Es más robusto y preciso en la mayoría de los casos en comparación con un solo árbol aleatorio, debido al efecto de ensamblado.\n",
    "En resumen, mientras que un \"Random Tree\" es un solo árbol que toma decisiones basadas en subconjuntos aleatorios de características, \"Random Forest\" es un conjunto de tales árboles que trabajan juntos para dar una predicción final. El enfoque de ensamblado de Random Forest le permite aprovechar la \"sabiduría de la multitud\", donde la combinación de muchos modelos ayuda a mejorar la precisión y reducir el sobreajuste."
   ]
  },
  {
   "cell_type": "code",
   "execution_count": 1,
   "id": "291df347-067d-400f-9769-2d613afba2e7",
   "metadata": {
    "tags": []
   },
   "outputs": [],
   "source": [
    "import pandas as pd"
   ]
  },
  {
   "cell_type": "markdown",
   "id": "2e325aba-d17d-4672-8778-757fea43e357",
   "metadata": {
    "jp-MarkdownHeadingCollapsed": true,
    "tags": []
   },
   "source": [
    "#### cargar datos"
   ]
  },
  {
   "cell_type": "code",
   "execution_count": null,
   "id": "f386cdc0-ded6-40e0-8c9f-0876b17eabc0",
   "metadata": {
    "tags": []
   },
   "outputs": [],
   "source": [
    "sample_file_path = '../dataset/data/sample.csv'\n",
    "sample = pd.read_csv(sample_file_path) \n",
    "\n",
    "sample.columns\n",
    "#sample.info()"
   ]
  },
  {
   "cell_type": "code",
   "execution_count": 3,
   "id": "a4b39890-10e2-486c-a049-a58c327bb61d",
   "metadata": {
    "tags": []
   },
   "outputs": [],
   "source": [
    "sample_cod = sample.drop(['Attack', 'Dataset'], axis=1)"
   ]
  },
  {
   "cell_type": "markdown",
   "id": "48c9d942-2f94-482d-90c8-bf15296734d9",
   "metadata": {
    "jp-MarkdownHeadingCollapsed": true,
    "tags": []
   },
   "source": [
    "#### Codificacion one-hot ataques Solo ataques DDoS (archive sample_cod-15000 registros)"
   ]
  },
  {
   "cell_type": "code",
   "execution_count": null,
   "id": "3addfaab-a32b-40a9-b20f-811f63df714f",
   "metadata": {
    "tags": []
   },
   "outputs": [],
   "source": [
    "encoded_attacks = pd.get_dummies(sample['Attack'], prefix='Attack')\n",
    "encoded_attacks.reset_index(drop=True, inplace=True)\n",
    "sample.reset_index(drop=True, inplace=True)\n",
    "sample_cod['Attack_DDoS'] = encoded_attacks['Attack_DDoS'].astype('int64')\n",
    "sample_cod.info()"
   ]
  },
  {
   "cell_type": "code",
   "execution_count": 6,
   "id": "2faff0dd-1564-4f32-bd0b-aa0a1c2883a2",
   "metadata": {
    "tags": []
   },
   "outputs": [],
   "source": [
    "sample_cod.to_csv('../dataset/data/sample_cod.csv', index=False)"
   ]
  },
  {
   "cell_type": "markdown",
   "id": "35836a58-5dbd-48eb-962d-c2c59ad73869",
   "metadata": {
    "jp-MarkdownHeadingCollapsed": true,
    "tags": []
   },
   "source": [
    "#### lectura archivo csv"
   ]
  },
  {
   "cell_type": "code",
   "execution_count": 10,
   "id": "22a6bff3-ac5b-4666-a888-57f47f5449b7",
   "metadata": {
    "tags": []
   },
   "outputs": [],
   "source": [
    "sample_cod = pd.read_csv('../dataset/data/sample_150K_cod.csv')"
   ]
  },
  {
   "cell_type": "code",
   "execution_count": 11,
   "id": "b3cc0d80-c590-4915-bbd0-53c54d64cce9",
   "metadata": {
    "tags": []
   },
   "outputs": [
    {
     "name": "stdout",
     "output_type": "stream",
     "text": [
      "<class 'pandas.core.frame.DataFrame'>\n",
      "RangeIndex: 151927 entries, 0 to 151926\n",
      "Data columns (total 44 columns):\n",
      " #   Column                       Non-Null Count   Dtype\n",
      "---  ------                       --------------   -----\n",
      " 0   L4_SRC_PORT                  151927 non-null  int64\n",
      " 1   L4_DST_PORT                  151927 non-null  int64\n",
      " 2   PROTOCOL                     151927 non-null  int64\n",
      " 3   L7_PROTO                     151927 non-null  int64\n",
      " 4   IN_BYTES                     151927 non-null  int64\n",
      " 5   IN_PKTS                      151927 non-null  int64\n",
      " 6   OUT_BYTES                    151927 non-null  int64\n",
      " 7   OUT_PKTS                     151927 non-null  int64\n",
      " 8   TCP_FLAGS                    151927 non-null  int64\n",
      " 9   CLIENT_TCP_FLAGS             151927 non-null  int64\n",
      " 10  SERVER_TCP_FLAGS             151927 non-null  int64\n",
      " 11  FLOW_DURATION_MILLISECONDS   151927 non-null  int64\n",
      " 12  DURATION_IN                  151927 non-null  int64\n",
      " 13  DURATION_OUT                 151927 non-null  int64\n",
      " 14  MIN_TTL                      151927 non-null  int64\n",
      " 15  MAX_TTL                      151927 non-null  int64\n",
      " 16  LONGEST_FLOW_PKT             151927 non-null  int64\n",
      " 17  SHORTEST_FLOW_PKT            151927 non-null  int64\n",
      " 18  MIN_IP_PKT_LEN               151927 non-null  int64\n",
      " 19  MAX_IP_PKT_LEN               151927 non-null  int64\n",
      " 20  SRC_TO_DST_SECOND_BYTES      151927 non-null  int64\n",
      " 21  DST_TO_SRC_SECOND_BYTES      151927 non-null  int64\n",
      " 22  RETRANSMITTED_IN_BYTES       151927 non-null  int64\n",
      " 23  RETRANSMITTED_IN_PKTS        151927 non-null  int64\n",
      " 24  RETRANSMITTED_OUT_BYTES      151927 non-null  int64\n",
      " 25  RETRANSMITTED_OUT_PKTS       151927 non-null  int64\n",
      " 26  SRC_TO_DST_AVG_THROUGHPUT    151927 non-null  int64\n",
      " 27  DST_TO_SRC_AVG_THROUGHPUT    151927 non-null  int64\n",
      " 28  NUM_PKTS_UP_TO_128_BYTES     151927 non-null  int64\n",
      " 29  NUM_PKTS_128_TO_256_BYTES    151927 non-null  int64\n",
      " 30  NUM_PKTS_256_TO_512_BYTES    151927 non-null  int64\n",
      " 31  NUM_PKTS_512_TO_1024_BYTES   151927 non-null  int64\n",
      " 32  NUM_PKTS_1024_TO_1514_BYTES  151927 non-null  int64\n",
      " 33  TCP_WIN_MAX_IN               151927 non-null  int64\n",
      " 34  TCP_WIN_MAX_OUT              151927 non-null  int64\n",
      " 35  ICMP_TYPE                    151927 non-null  int64\n",
      " 36  ICMP_IPV4_TYPE               151927 non-null  int64\n",
      " 37  DNS_QUERY_ID                 151927 non-null  int64\n",
      " 38  DNS_QUERY_TYPE               151927 non-null  int64\n",
      " 39  DNS_TTL_ANSWER               151927 non-null  int64\n",
      " 40  FTP_COMMAND_RET_CODE         151927 non-null  int64\n",
      " 41  Label                        151927 non-null  int64\n",
      " 42  Dataset                      151927 non-null  int64\n",
      " 43  AttackCod                    151927 non-null  int64\n",
      "dtypes: int64(44)\n",
      "memory usage: 51.0 MB\n"
     ]
    }
   ],
   "source": [
    "sample_cod.info()"
   ]
  },
  {
   "cell_type": "code",
   "execution_count": 7,
   "id": "2fdbaa54-84f1-4f7c-97e2-81c408c04f9c",
   "metadata": {
    "tags": []
   },
   "outputs": [],
   "source": [
    "#y = sample_cod.Attack_DDoS\n",
    "y = sample_cod.AttackCod"
   ]
  },
  {
   "cell_type": "markdown",
   "id": "486d403e-8aa7-4151-ab9e-345d34977733",
   "metadata": {
    "jp-MarkdownHeadingCollapsed": true,
    "tags": []
   },
   "source": [
    "#### Seleccion de caracteristicas"
   ]
  },
  {
   "cell_type": "code",
   "execution_count": 8,
   "id": "c3a0b70d-8f5c-40f8-8f3f-d9e4296c0316",
   "metadata": {
    "tags": []
   },
   "outputs": [],
   "source": [
    "#NIDS_features = ['L7_PROTO', 'FLOW_DURATION_MILLISECONDS', 'RETRANSMITTED_IN_PKTS', 'NUM_PKTS_128_TO_256_BYTES', 'MAX_IP_PKT_LEN']\n",
    "NIDS_features = ['LONGEST_FLOW_PKT','TCP_FLAGS','CLIENT_TCP_FLAGS','MAX_IP_PKT_LEN', 'IN_BYTES', 'L7_PROTO', 'TCP_WIN_MAX_IN', 'NUM_PKTS_UP_TO_128_BYTES',\n",
    "                 'MIN_TTL', 'MAX_TTL', 'NUM_PKTS_128_TO_256_BYTES','MIN_IP_PKT_LEN', \n",
    "                'DNS_QUERY_ID','DURATION_IN', 'FLOW_DURATION_MILLISECONDS', 'RETRANSMITTED_IN_PKTS']"
   ]
  },
  {
   "cell_type": "code",
   "execution_count": 9,
   "id": "d8cd7aa5-2b2f-436b-8a71-9547ca1ae39c",
   "metadata": {
    "tags": []
   },
   "outputs": [],
   "source": [
    "X = sample_cod[NIDS_features]"
   ]
  },
  {
   "cell_type": "code",
   "execution_count": 10,
   "id": "a301ecfc-d103-4d67-8f01-e206f5826501",
   "metadata": {
    "tags": []
   },
   "outputs": [
    {
     "data": {
      "text/html": [
       "<div>\n",
       "<style scoped>\n",
       "    .dataframe tbody tr th:only-of-type {\n",
       "        vertical-align: middle;\n",
       "    }\n",
       "\n",
       "    .dataframe tbody tr th {\n",
       "        vertical-align: top;\n",
       "    }\n",
       "\n",
       "    .dataframe thead th {\n",
       "        text-align: right;\n",
       "    }\n",
       "</style>\n",
       "<table border=\"1\" class=\"dataframe\">\n",
       "  <thead>\n",
       "    <tr style=\"text-align: right;\">\n",
       "      <th></th>\n",
       "      <th>LONGEST_FLOW_PKT</th>\n",
       "      <th>TCP_FLAGS</th>\n",
       "      <th>CLIENT_TCP_FLAGS</th>\n",
       "      <th>MAX_IP_PKT_LEN</th>\n",
       "      <th>IN_BYTES</th>\n",
       "      <th>L7_PROTO</th>\n",
       "      <th>TCP_WIN_MAX_IN</th>\n",
       "      <th>NUM_PKTS_UP_TO_128_BYTES</th>\n",
       "      <th>MIN_TTL</th>\n",
       "      <th>MAX_TTL</th>\n",
       "      <th>NUM_PKTS_128_TO_256_BYTES</th>\n",
       "      <th>MIN_IP_PKT_LEN</th>\n",
       "      <th>DNS_QUERY_ID</th>\n",
       "      <th>DURATION_IN</th>\n",
       "      <th>FLOW_DURATION_MILLISECONDS</th>\n",
       "      <th>RETRANSMITTED_IN_PKTS</th>\n",
       "    </tr>\n",
       "  </thead>\n",
       "  <tbody>\n",
       "    <tr>\n",
       "      <th>count</th>\n",
       "      <td>151927.000000</td>\n",
       "      <td>151927.000000</td>\n",
       "      <td>151927.000000</td>\n",
       "      <td>151927.000000</td>\n",
       "      <td>1.519270e+05</td>\n",
       "      <td>151927.000000</td>\n",
       "      <td>151927.000000</td>\n",
       "      <td>151927.000000</td>\n",
       "      <td>151927.000000</td>\n",
       "      <td>151927.000000</td>\n",
       "      <td>151927.000000</td>\n",
       "      <td>151927.000000</td>\n",
       "      <td>151927.000000</td>\n",
       "      <td>151927.000000</td>\n",
       "      <td>1.519270e+05</td>\n",
       "      <td>151927.000000</td>\n",
       "    </tr>\n",
       "    <tr>\n",
       "      <th>mean</th>\n",
       "      <td>264.269425</td>\n",
       "      <td>24.044199</td>\n",
       "      <td>22.041072</td>\n",
       "      <td>264.269425</td>\n",
       "      <td>1.013931e+03</td>\n",
       "      <td>53.365189</td>\n",
       "      <td>6022.475906</td>\n",
       "      <td>26.852916</td>\n",
       "      <td>53.639834</td>\n",
       "      <td>53.694169</td>\n",
       "      <td>0.976713</td>\n",
       "      <td>23.609688</td>\n",
       "      <td>4526.881101</td>\n",
       "      <td>534.016251</td>\n",
       "      <td>2.316412e+06</td>\n",
       "      <td>0.386185</td>\n",
       "    </tr>\n",
       "    <tr>\n",
       "      <th>std</th>\n",
       "      <td>425.507647</td>\n",
       "      <td>58.185309</td>\n",
       "      <td>58.255988</td>\n",
       "      <td>425.507647</td>\n",
       "      <td>8.601767e+04</td>\n",
       "      <td>78.920631</td>\n",
       "      <td>13205.205996</td>\n",
       "      <td>1470.859328</td>\n",
       "      <td>39.620603</td>\n",
       "      <td>39.658071</td>\n",
       "      <td>13.132424</td>\n",
       "      <td>26.990729</td>\n",
       "      <td>13321.616592</td>\n",
       "      <td>831.346125</td>\n",
       "      <td>2.140299e+06</td>\n",
       "      <td>2.969931</td>\n",
       "    </tr>\n",
       "    <tr>\n",
       "      <th>min</th>\n",
       "      <td>28.000000</td>\n",
       "      <td>0.000000</td>\n",
       "      <td>0.000000</td>\n",
       "      <td>28.000000</td>\n",
       "      <td>4.000000e+00</td>\n",
       "      <td>0.000000</td>\n",
       "      <td>0.000000</td>\n",
       "      <td>0.000000</td>\n",
       "      <td>0.000000</td>\n",
       "      <td>0.000000</td>\n",
       "      <td>0.000000</td>\n",
       "      <td>0.000000</td>\n",
       "      <td>0.000000</td>\n",
       "      <td>0.000000</td>\n",
       "      <td>0.000000e+00</td>\n",
       "      <td>0.000000</td>\n",
       "    </tr>\n",
       "    <tr>\n",
       "      <th>25%</th>\n",
       "      <td>40.000000</td>\n",
       "      <td>0.000000</td>\n",
       "      <td>0.000000</td>\n",
       "      <td>40.000000</td>\n",
       "      <td>5.600000e+01</td>\n",
       "      <td>0.000000</td>\n",
       "      <td>0.000000</td>\n",
       "      <td>1.000000</td>\n",
       "      <td>0.000000</td>\n",
       "      <td>0.000000</td>\n",
       "      <td>0.000000</td>\n",
       "      <td>0.000000</td>\n",
       "      <td>0.000000</td>\n",
       "      <td>0.000000</td>\n",
       "      <td>0.000000e+00</td>\n",
       "      <td>0.000000</td>\n",
       "    </tr>\n",
       "    <tr>\n",
       "      <th>50%</th>\n",
       "      <td>100.000000</td>\n",
       "      <td>2.000000</td>\n",
       "      <td>2.000000</td>\n",
       "      <td>100.000000</td>\n",
       "      <td>1.120000e+02</td>\n",
       "      <td>7.000000</td>\n",
       "      <td>512.000000</td>\n",
       "      <td>2.000000</td>\n",
       "      <td>64.000000</td>\n",
       "      <td>64.000000</td>\n",
       "      <td>0.000000</td>\n",
       "      <td>0.000000</td>\n",
       "      <td>0.000000</td>\n",
       "      <td>21.000000</td>\n",
       "      <td>4.293061e+06</td>\n",
       "      <td>0.000000</td>\n",
       "    </tr>\n",
       "    <tr>\n",
       "      <th>75%</th>\n",
       "      <td>140.000000</td>\n",
       "      <td>22.000000</td>\n",
       "      <td>6.000000</td>\n",
       "      <td>140.000000</td>\n",
       "      <td>2.800000e+02</td>\n",
       "      <td>91.000000</td>\n",
       "      <td>4096.000000</td>\n",
       "      <td>4.000000</td>\n",
       "      <td>64.000000</td>\n",
       "      <td>64.000000</td>\n",
       "      <td>2.000000</td>\n",
       "      <td>40.000000</td>\n",
       "      <td>0.000000</td>\n",
       "      <td>1050.000000</td>\n",
       "      <td>4.294029e+06</td>\n",
       "      <td>0.000000</td>\n",
       "    </tr>\n",
       "    <tr>\n",
       "      <th>max</th>\n",
       "      <td>7292.000000</td>\n",
       "      <td>223.000000</td>\n",
       "      <td>223.000000</td>\n",
       "      <td>7292.000000</td>\n",
       "      <td>3.148497e+07</td>\n",
       "      <td>245.000000</td>\n",
       "      <td>65535.000000</td>\n",
       "      <td>183859.000000</td>\n",
       "      <td>255.000000</td>\n",
       "      <td>255.000000</td>\n",
       "      <td>3314.000000</td>\n",
       "      <td>422.000000</td>\n",
       "      <td>65534.000000</td>\n",
       "      <td>102900.000000</td>\n",
       "      <td>4.294966e+06</td>\n",
       "      <td>552.000000</td>\n",
       "    </tr>\n",
       "  </tbody>\n",
       "</table>\n",
       "</div>"
      ],
      "text/plain": [
       "       LONGEST_FLOW_PKT      TCP_FLAGS  CLIENT_TCP_FLAGS  MAX_IP_PKT_LEN  \\\n",
       "count     151927.000000  151927.000000     151927.000000   151927.000000   \n",
       "mean         264.269425      24.044199         22.041072      264.269425   \n",
       "std          425.507647      58.185309         58.255988      425.507647   \n",
       "min           28.000000       0.000000          0.000000       28.000000   \n",
       "25%           40.000000       0.000000          0.000000       40.000000   \n",
       "50%          100.000000       2.000000          2.000000      100.000000   \n",
       "75%          140.000000      22.000000          6.000000      140.000000   \n",
       "max         7292.000000     223.000000        223.000000     7292.000000   \n",
       "\n",
       "           IN_BYTES       L7_PROTO  TCP_WIN_MAX_IN  NUM_PKTS_UP_TO_128_BYTES  \\\n",
       "count  1.519270e+05  151927.000000   151927.000000             151927.000000   \n",
       "mean   1.013931e+03      53.365189     6022.475906                 26.852916   \n",
       "std    8.601767e+04      78.920631    13205.205996               1470.859328   \n",
       "min    4.000000e+00       0.000000        0.000000                  0.000000   \n",
       "25%    5.600000e+01       0.000000        0.000000                  1.000000   \n",
       "50%    1.120000e+02       7.000000      512.000000                  2.000000   \n",
       "75%    2.800000e+02      91.000000     4096.000000                  4.000000   \n",
       "max    3.148497e+07     245.000000    65535.000000             183859.000000   \n",
       "\n",
       "             MIN_TTL        MAX_TTL  NUM_PKTS_128_TO_256_BYTES  \\\n",
       "count  151927.000000  151927.000000              151927.000000   \n",
       "mean       53.639834      53.694169                   0.976713   \n",
       "std        39.620603      39.658071                  13.132424   \n",
       "min         0.000000       0.000000                   0.000000   \n",
       "25%         0.000000       0.000000                   0.000000   \n",
       "50%        64.000000      64.000000                   0.000000   \n",
       "75%        64.000000      64.000000                   2.000000   \n",
       "max       255.000000     255.000000                3314.000000   \n",
       "\n",
       "       MIN_IP_PKT_LEN   DNS_QUERY_ID    DURATION_IN  \\\n",
       "count   151927.000000  151927.000000  151927.000000   \n",
       "mean        23.609688    4526.881101     534.016251   \n",
       "std         26.990729   13321.616592     831.346125   \n",
       "min          0.000000       0.000000       0.000000   \n",
       "25%          0.000000       0.000000       0.000000   \n",
       "50%          0.000000       0.000000      21.000000   \n",
       "75%         40.000000       0.000000    1050.000000   \n",
       "max        422.000000   65534.000000  102900.000000   \n",
       "\n",
       "       FLOW_DURATION_MILLISECONDS  RETRANSMITTED_IN_PKTS  \n",
       "count                1.519270e+05          151927.000000  \n",
       "mean                 2.316412e+06               0.386185  \n",
       "std                  2.140299e+06               2.969931  \n",
       "min                  0.000000e+00               0.000000  \n",
       "25%                  0.000000e+00               0.000000  \n",
       "50%                  4.293061e+06               0.000000  \n",
       "75%                  4.294029e+06               0.000000  \n",
       "max                  4.294966e+06             552.000000  "
      ]
     },
     "execution_count": 10,
     "metadata": {},
     "output_type": "execute_result"
    }
   ],
   "source": [
    "X.describe()"
   ]
  },
  {
   "cell_type": "markdown",
   "id": "b9c68946-ef72-474a-bf15-1508f5c1646f",
   "metadata": {
    "jp-MarkdownHeadingCollapsed": true,
    "tags": []
   },
   "source": [
    "#### Entrenamiento del modelo decisionTree"
   ]
  },
  {
   "cell_type": "code",
   "execution_count": 18,
   "id": "4aa2ffd6-c782-4557-8cb5-60beab63a0a3",
   "metadata": {
    "tags": []
   },
   "outputs": [
    {
     "data": {
      "text/html": [
       "<style>#sk-container-id-1 {color: black;}#sk-container-id-1 pre{padding: 0;}#sk-container-id-1 div.sk-toggleable {background-color: white;}#sk-container-id-1 label.sk-toggleable__label {cursor: pointer;display: block;width: 100%;margin-bottom: 0;padding: 0.3em;box-sizing: border-box;text-align: center;}#sk-container-id-1 label.sk-toggleable__label-arrow:before {content: \"▸\";float: left;margin-right: 0.25em;color: #696969;}#sk-container-id-1 label.sk-toggleable__label-arrow:hover:before {color: black;}#sk-container-id-1 div.sk-estimator:hover label.sk-toggleable__label-arrow:before {color: black;}#sk-container-id-1 div.sk-toggleable__content {max-height: 0;max-width: 0;overflow: hidden;text-align: left;background-color: #f0f8ff;}#sk-container-id-1 div.sk-toggleable__content pre {margin: 0.2em;color: black;border-radius: 0.25em;background-color: #f0f8ff;}#sk-container-id-1 input.sk-toggleable__control:checked~div.sk-toggleable__content {max-height: 200px;max-width: 100%;overflow: auto;}#sk-container-id-1 input.sk-toggleable__control:checked~label.sk-toggleable__label-arrow:before {content: \"▾\";}#sk-container-id-1 div.sk-estimator input.sk-toggleable__control:checked~label.sk-toggleable__label {background-color: #d4ebff;}#sk-container-id-1 div.sk-label input.sk-toggleable__control:checked~label.sk-toggleable__label {background-color: #d4ebff;}#sk-container-id-1 input.sk-hidden--visually {border: 0;clip: rect(1px 1px 1px 1px);clip: rect(1px, 1px, 1px, 1px);height: 1px;margin: -1px;overflow: hidden;padding: 0;position: absolute;width: 1px;}#sk-container-id-1 div.sk-estimator {font-family: monospace;background-color: #f0f8ff;border: 1px dotted black;border-radius: 0.25em;box-sizing: border-box;margin-bottom: 0.5em;}#sk-container-id-1 div.sk-estimator:hover {background-color: #d4ebff;}#sk-container-id-1 div.sk-parallel-item::after {content: \"\";width: 100%;border-bottom: 1px solid gray;flex-grow: 1;}#sk-container-id-1 div.sk-label:hover label.sk-toggleable__label {background-color: #d4ebff;}#sk-container-id-1 div.sk-serial::before {content: \"\";position: absolute;border-left: 1px solid gray;box-sizing: border-box;top: 0;bottom: 0;left: 50%;z-index: 0;}#sk-container-id-1 div.sk-serial {display: flex;flex-direction: column;align-items: center;background-color: white;padding-right: 0.2em;padding-left: 0.2em;position: relative;}#sk-container-id-1 div.sk-item {position: relative;z-index: 1;}#sk-container-id-1 div.sk-parallel {display: flex;align-items: stretch;justify-content: center;background-color: white;position: relative;}#sk-container-id-1 div.sk-item::before, #sk-container-id-1 div.sk-parallel-item::before {content: \"\";position: absolute;border-left: 1px solid gray;box-sizing: border-box;top: 0;bottom: 0;left: 50%;z-index: -1;}#sk-container-id-1 div.sk-parallel-item {display: flex;flex-direction: column;z-index: 1;position: relative;background-color: white;}#sk-container-id-1 div.sk-parallel-item:first-child::after {align-self: flex-end;width: 50%;}#sk-container-id-1 div.sk-parallel-item:last-child::after {align-self: flex-start;width: 50%;}#sk-container-id-1 div.sk-parallel-item:only-child::after {width: 0;}#sk-container-id-1 div.sk-dashed-wrapped {border: 1px dashed gray;margin: 0 0.4em 0.5em 0.4em;box-sizing: border-box;padding-bottom: 0.4em;background-color: white;}#sk-container-id-1 div.sk-label label {font-family: monospace;font-weight: bold;display: inline-block;line-height: 1.2em;}#sk-container-id-1 div.sk-label-container {text-align: center;}#sk-container-id-1 div.sk-container {/* jupyter's `normalize.less` sets `[hidden] { display: none; }` but bootstrap.min.css set `[hidden] { display: none !important; }` so we also need the `!important` here to be able to override the default hidden behavior on the sphinx rendered scikit-learn.org. See: https://github.com/scikit-learn/scikit-learn/issues/21755 */display: inline-block !important;position: relative;}#sk-container-id-1 div.sk-text-repr-fallback {display: none;}</style><div id=\"sk-container-id-1\" class=\"sk-top-container\"><div class=\"sk-text-repr-fallback\"><pre>DecisionTreeRegressor(random_state=1)</pre><b>In a Jupyter environment, please rerun this cell to show the HTML representation or trust the notebook. <br />On GitHub, the HTML representation is unable to render, please try loading this page with nbviewer.org.</b></div><div class=\"sk-container\" hidden><div class=\"sk-item\"><div class=\"sk-estimator sk-toggleable\"><input class=\"sk-toggleable__control sk-hidden--visually\" id=\"sk-estimator-id-1\" type=\"checkbox\" checked><label for=\"sk-estimator-id-1\" class=\"sk-toggleable__label sk-toggleable__label-arrow\">DecisionTreeRegressor</label><div class=\"sk-toggleable__content\"><pre>DecisionTreeRegressor(random_state=1)</pre></div></div></div></div></div>"
      ],
      "text/plain": [
       "DecisionTreeRegressor(random_state=1)"
      ]
     },
     "execution_count": 18,
     "metadata": {},
     "output_type": "execute_result"
    }
   ],
   "source": [
    "from sklearn.tree import DecisionTreeRegressor\n",
    "\n",
    "# Define model. Specify a number for random_state to ensure same results each run\n",
    "security_model = DecisionTreeRegressor(random_state=1)\n",
    "\n",
    "# Fit model\n",
    "security_model.fit(X, y)"
   ]
  },
  {
   "cell_type": "markdown",
   "id": "2f2a4ebe-2cb6-4f40-9b36-5a502f3bf164",
   "metadata": {
    "jp-MarkdownHeadingCollapsed": true,
    "tags": []
   },
   "source": [
    "#### Predicciones con el modelo"
   ]
  },
  {
   "cell_type": "code",
   "execution_count": 19,
   "id": "2fadbd15-bbf0-4b88-b9f0-8657b9c044a7",
   "metadata": {
    "tags": []
   },
   "outputs": [
    {
     "name": "stdout",
     "output_type": "stream",
     "text": [
      "Making predictions for the following 5 attacks:\n",
      "   LONGEST_FLOW_PKT  TCP_FLAGS  CLIENT_TCP_FLAGS  MAX_IP_PKT_LEN  IN_BYTES  \\\n",
      "0               100          0                 0             100       200   \n",
      "1               100          0                 0             100       200   \n",
      "2               478         27                27             478       828   \n",
      "3               423         27                27             423       794   \n",
      "4                48         22                 2              48      1440   \n",
      "\n",
      "   L7_PROTO  TCP_WIN_MAX_IN  NUM_PKTS_UP_TO_128_BYTES  MIN_TTL  MAX_TTL  \\\n",
      "0         0               0                         2      254      254   \n",
      "1         0               0                         2      254      254   \n",
      "2         7           16383                        14       62       63   \n",
      "3         7           16383                        14       62       63   \n",
      "4       131            8192                        60      128      128   \n",
      "\n",
      "   NUM_PKTS_128_TO_256_BYTES  MIN_IP_PKT_LEN  DNS_QUERY_ID  DURATION_IN  \\\n",
      "0                          0               0             0            0   \n",
      "1                          0               0             0            0   \n",
      "2                          2              40             0            0   \n",
      "3                          2              40             0            0   \n",
      "4                          0              40             0            0   \n",
      "\n",
      "   FLOW_DURATION_MILLISECONDS  RETRANSMITTED_IN_PKTS  \n",
      "0                           0                      0  \n",
      "1                           0                      0  \n",
      "2                           0                      1  \n",
      "3                           0                      1  \n",
      "4                           0                      0  \n",
      "The predictions are\n",
      "[1. 1. 1. 1. 1.]\n"
     ]
    }
   ],
   "source": [
    "print(\"Making predictions for the following 5 attacks:\")\n",
    "print(X.head())\n",
    "print(\"The predictions are\")\n",
    "print(security_model.predict(X.head()))"
   ]
  },
  {
   "cell_type": "markdown",
   "id": "98b2eaad-cd35-4570-8034-e90518bed316",
   "metadata": {
    "jp-MarkdownHeadingCollapsed": true,
    "tags": []
   },
   "source": [
    "#### Error Absoluto de las predicciones del modelo"
   ]
  },
  {
   "cell_type": "code",
   "execution_count": 20,
   "id": "90b11f4b-2025-427d-9697-f12011eb2a85",
   "metadata": {
    "tags": []
   },
   "outputs": [
    {
     "data": {
      "text/plain": [
       "0.019786173927580326"
      ]
     },
     "execution_count": 20,
     "metadata": {},
     "output_type": "execute_result"
    }
   ],
   "source": [
    "from sklearn.metrics import mean_absolute_error\n",
    "predicted_attacks = security_model.predict(X)\n",
    "mean_absolute_error(y, predicted_attacks)"
   ]
  },
  {
   "cell_type": "markdown",
   "id": "cd1e055a-e36c-44f2-8eaf-54b228469bd0",
   "metadata": {
    "jp-MarkdownHeadingCollapsed": true,
    "tags": []
   },
   "source": [
    "#### Precision"
   ]
  },
  {
   "cell_type": "code",
   "execution_count": null,
   "id": "7ac2a13d-1ad2-462b-b03a-40fe95a9c443",
   "metadata": {},
   "outputs": [],
   "source": [
    "from sklearn.metrics import accuracy_score\n",
    "\n",
    "# Supongamos que tienes etiquetas verdaderas en y_true y predicciones en predicted_attacks\n",
    "accuracy = accuracy_score(y_true, predicted_attacks)\n",
    "\n",
    "print(\"Accuracy:\", accuracy)"
   ]
  },
  {
   "cell_type": "markdown",
   "id": "3a7cdccb-ee56-4d77-830f-8f455cc5ba3a",
   "metadata": {
    "jp-MarkdownHeadingCollapsed": true,
    "tags": []
   },
   "source": [
    "#### Division (entrenamiento y validacion)"
   ]
  },
  {
   "cell_type": "code",
   "execution_count": 13,
   "id": "d733eda4-980c-4265-8657-ce0af6a790af",
   "metadata": {
    "tags": []
   },
   "outputs": [
    {
     "name": "stdout",
     "output_type": "stream",
     "text": [
      "0.03246308013241967\n"
     ]
    }
   ],
   "source": [
    "from sklearn.model_selection import train_test_split\n",
    "\n",
    "# split data into training and validation data, for both features and target\n",
    "# The split is based on a random number generator. Supplying a numeric value to\n",
    "# the random_state argument guarantees we get the same split every time we\n",
    "# run this script.\n",
    "train_X, val_X, train_y, val_y = train_test_split(X, y, random_state = 0)\n",
    "# Define model\n",
    "ciber_model = DecisionTreeRegressor()\n",
    "# Fit model\n",
    "ciber_model.fit(train_X, train_y)\n",
    "\n",
    "# get predicted prices on validation data\n",
    "val_predictions = ciber_model.predict(val_X)\n",
    "print(mean_absolute_error(val_y, val_predictions))"
   ]
  },
  {
   "cell_type": "markdown",
   "id": "182b4de4-05b6-4232-8c59-e65d6183ed75",
   "metadata": {
    "jp-MarkdownHeadingCollapsed": true,
    "tags": []
   },
   "source": [
    "#### Entrenamiento modelo 2 variando profundidad para encontrar punto optimo( sweet spot)"
   ]
  },
  {
   "cell_type": "code",
   "execution_count": 15,
   "id": "ab9d806d-6501-4a65-90af-adb82e1c4658",
   "metadata": {
    "tags": []
   },
   "outputs": [],
   "source": [
    "from sklearn.metrics import mean_absolute_error\n",
    "from sklearn.tree import DecisionTreeRegressor\n",
    "\n",
    "def get_mae(max_leaf_nodes, train_X, val_X, train_y, val_y):\n",
    "    model = DecisionTreeRegressor(max_leaf_nodes=max_leaf_nodes, random_state=0)\n",
    "    model.fit(train_X, train_y)\n",
    "    preds_val = model.predict(val_X)\n",
    "    mae = mean_absolute_error(val_y, preds_val)\n",
    "    return(mae)"
   ]
  },
  {
   "cell_type": "code",
   "execution_count": 16,
   "id": "df456677-c6bc-49dc-be71-dbcddcdfd62e",
   "metadata": {
    "tags": []
   },
   "outputs": [
    {
     "name": "stdout",
     "output_type": "stream",
     "text": [
      "Max leaf nodes: 5  \t\t Mean Absolute Error:  0\n",
      "Max leaf nodes: 50  \t\t Mean Absolute Error:  0\n",
      "Max leaf nodes: 500  \t\t Mean Absolute Error:  0\n",
      "Max leaf nodes: 5000  \t\t Mean Absolute Error:  0\n"
     ]
    }
   ],
   "source": [
    "# compare MAE with differing values of max_leaf_nodes\n",
    "for max_leaf_nodes in [5, 50, 500, 5000]:\n",
    "    my_mae = get_mae(max_leaf_nodes, train_X, val_X, train_y, val_y)\n",
    "    print(\"Max leaf nodes: %d  \\t\\t Mean Absolute Error:  %d\" %(max_leaf_nodes, my_mae))"
   ]
  },
  {
   "cell_type": "markdown",
   "id": "5b921d71-1345-4af1-8af7-686bed091b06",
   "metadata": {
    "jp-MarkdownHeadingCollapsed": true,
    "tags": []
   },
   "source": [
    "#### Random Forests"
   ]
  },
  {
   "cell_type": "code",
   "execution_count": 17,
   "id": "f94d3fc6-9d53-4593-a968-4ee418da8a38",
   "metadata": {
    "tags": []
   },
   "outputs": [
    {
     "name": "stdout",
     "output_type": "stream",
     "text": [
      "0.03295540802889015\n"
     ]
    }
   ],
   "source": [
    "from sklearn.ensemble import RandomForestRegressor\n",
    "from sklearn.metrics import mean_absolute_error\n",
    "\n",
    "forest_model = RandomForestRegressor(random_state=1)\n",
    "forest_model.fit(train_X, train_y)\n",
    "attacks_preds = forest_model.predict(val_X)\n",
    "print(mean_absolute_error(val_y, attacks_preds))"
   ]
  },
  {
   "cell_type": "markdown",
   "id": "98c5a0d7-2a8b-4002-a5f8-95816a13229a",
   "metadata": {
    "jp-MarkdownHeadingCollapsed": true,
    "tags": []
   },
   "source": [
    "#### RFE Eliminación de características Recursiva (RFE)"
   ]
  },
  {
   "cell_type": "markdown",
   "id": "d4eb5979-903b-482a-bce8-d3a17b732391",
   "metadata": {
    "tags": []
   },
   "source": [
    "##### Explicacion"
   ]
  },
  {
   "cell_type": "markdown",
   "id": "633df11d-1843-4fe3-a3a8-d04d4993156d",
   "metadata": {},
   "source": [
    "La Eliminación de Características Recursiva (RFE, por sus siglas en inglés, Recursive Feature Elimination) es una técnica de selección de características utilizada en aprendizaje automático para mejorar la eficiencia y el rendimiento de un modelo al eliminar de manera iterativa las características menos importantes del conjunto de datos. Su proceso se puede explicar en los siguientes pasos:\n",
    "\n",
    "**Modelo Base**: Inicialmente, se entrena un modelo con todas las características disponibles en el conjunto de datos. El tipo de modelo utilizado depende del problema en cuestión, y puede ser una máquina de soporte vectorial (SVM), una regresión, una red neuronal, o cualquier otro algoritmo de aprendizaje automático.\n",
    "\n",
    "**Ranking de Características**: Después de entrenar el modelo base, se obtiene una puntuación o ranking de importancia para cada característica. Esta puntuación puede basarse en coeficientes, como los coeficientes de una regresión, la importancia de las características en un árbol de decisión, o cualquier otra métrica relevante.\n",
    "\n",
    "**Eliminación de Características**: Se elimina la característica menos importante según el ranking obtenido en el paso anterior. Esto significa que se descarta la característica que tiene la menor contribución al rendimiento del modelo.\n",
    "\n",
    "**Entrenamiento Iterativo**: El modelo se vuelve a entrenar con el conjunto de datos reducido, que ahora contiene una característica menos. Este proceso se repite de manera iterativa, eliminando una característica en cada iteración, hasta que se alcanza un criterio de parada predefinido. Este criterio puede ser un número específico de características a mantener o una métrica de rendimiento del modelo.\n",
    "\n",
    "**Evaluación del Rendimiento**: Se evalúa el rendimiento del modelo en un conjunto de validación o prueba en cada iteración. Esto permite determinar si la eliminación de características ha mejorado o degradado el rendimiento del modelo.\n",
    "\n",
    "**Selección de Características Óptimas**: Finalmente, se selecciona el conjunto óptimo de características que proporciona el mejor rendimiento en función del criterio de evaluación establecido.\n",
    "\n",
    "La Eliminación de Características Recursiva es útil cuando se tiene un conjunto de datos con muchas características y se desea reducir la dimensionalidad para mejorar la eficiencia computacional y evitar la maldición de la dimensionalidad. Al eliminar características menos relevantes, se puede obtener un modelo más simple y generalizable. La elección de un criterio de parada adecuado y la elección del modelo base son aspectos importantes en la implementación de RFE. La biblioteca scikit-learn de Python ofrece una implementación de RFE que facilita su aplicación en proyectos de aprendizaje automático."
   ]
  },
  {
   "cell_type": "code",
   "execution_count": null,
   "id": "aada54c8-fb6f-4adb-acc6-c5797dba4539",
   "metadata": {},
   "outputs": [],
   "source": []
  }
 ],
 "metadata": {
  "kernelspec": {
   "display_name": "Python 3 (ipykernel)",
   "language": "python",
   "name": "python3"
  },
  "language_info": {
   "codemirror_mode": {
    "name": "ipython",
    "version": 3
   },
   "file_extension": ".py",
   "mimetype": "text/x-python",
   "name": "python",
   "nbconvert_exporter": "python",
   "pygments_lexer": "ipython3",
   "version": "3.9.18"
  }
 },
 "nbformat": 4,
 "nbformat_minor": 5
}
