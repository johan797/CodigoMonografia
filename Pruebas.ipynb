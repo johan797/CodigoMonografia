{
 "cells": [
  {
   "cell_type": "code",
   "execution_count": null,
   "id": "6374a517-39db-42ed-a80c-3d5da52b8031",
   "metadata": {},
   "outputs": [],
   "source": [
    "from sklearn.model_selection import train_test_split\n",
    "\n",
    "# `X` son las características y `y` las clases (tipos de ataques)\n",
    "# Se dividen los datos en entrenamiento (70%) y temporal (30%)\n",
    "X_train, X_temp, y_train, y_temp = train_test_split(X, y, test_size=0.3, stratify=y, random_state=42)\n",
    "\n",
    "# Se divide el conjunto temporal en validación y prueba (ambos 15% del total original)\n",
    "X_val, X_test, y_val, y_test = train_test_split(X_temp, y_temp, test_size=0.5, stratify=y_temp, random_state=42)\n",
    "\n",
    "#imprimimos la forma de Xtrain\n",
    "X_train.shape"
   ]
  },
  {
   "cell_type": "code",
   "execution_count": null,
   "id": "96edfe03-dd05-4112-a0b0-d7e06a8979ac",
   "metadata": {},
   "outputs": [],
   "source": [
    "model = keras.Sequential([\n",
    "   \n",
    "    layers.InputLayer(input_shape=(20,)),\n",
    "    layers.Dropout(rate=0.1),\n",
    "    layers.BatchNormalization(),\n",
    "    \n",
    "    # Una capa oculta densa con 128 neuronas y función de activación ReLU\n",
    "    layers.Dense(128, activation='relu'),    \n",
    "    layers.Dropout(rate=0.1),\n",
    "    layers.BatchNormalization(),\n",
    "    \n",
    "    # Otra capa oculta densa con 64 neuronas\n",
    "    layers.Dense(64, activation='relu'),\n",
    "    layers.Dropout(rate=0.1),\n",
    "    layers.BatchNormalization(), \n",
    "    \n",
    "    # Capa de salida para 3 clases, con función de activación softmax segun la columna de salida que es multiclase(3 clases DDoS, Benign, No-DDoS)\n",
    "    layers.Dense(3, activation='softmax')\n",
    "])\n",
    "\n",
    "model.compile(optimizer='Adam', loss='sparse_categorical_crossentropy', metrics=['accuracy'])\n",
    "\n",
    "model.summary()\n",
    "\n",
    "plot_model(model, to_file='model_plot.png', show_shapes=True, show_layer_names=True)\n",
    "\n",
    "history = model.fit(X_train, y_train, validation_data=(X_val, y_val), epochs=25, batch_size=240"
   ]
  },
  {
   "cell_type": "code",
   "execution_count": null,
   "id": "e714d69d-9add-483b-add2-740e9b01678c",
   "metadata": {},
   "outputs": [],
   "source": [
    "\n",
    "X = df[NIDS_features]\n",
    "\n",
    "# Escalamos solo las características (X) y no las etiquetas (y)\n",
    "scaler = MinMaxScaler()\n",
    "X = scaler.fit_transform(X)\n",
    "\n",
    "# Dividir datos\n",
    "X_train, X_temp, y_train, y_temp = train_test_split(X, AttackCod, test_size=0.3, random_state=42)\n",
    "X_val, X_test, y_val, y_test = train_test_split(X_temp, y_temp, test_size=0.5, random_state=42)\n",
    "\n",
    "# Definición del modelo\n",
    "model = keras.Sequential([\n",
    "    layers.LSTM(64, return_sequences=True, input_shape=(X.shape[1], 1), dropout=0.1),\n",
    "    layers.LSTM(32, dropout=0.1),\n",
    "    layers.Dense(3, activation='sigmoid')\n",
    "])\n",
    "\n",
    "# Compilar modelo con las métricas adicionales\n",
    "model.compile(optimizer='Adam', \n",
    "              loss='sparse_categorical_crossentropy',\n",
    "              metrics=['accuracy', f1_metric])\n",
    "\n",
    "# Resumen del modelo\n",
    "model.summary()\n",
    "\n",
    "# Entrenar modelo\n",
    "history = model.fit(X_train, y_train, validation_data=(X_val, y_val), epochs=10, batch_size=240)\n"
   ]
  },
  {
   "cell_type": "code",
   "execution_count": 1,
   "id": "0f3641bd-fa2f-4532-8a36-9bf047c64e2d",
   "metadata": {
    "tags": []
   },
   "outputs": [
    {
     "data": {
      "text/plain": [
       "[]"
      ]
     },
     "execution_count": 1,
     "metadata": {},
     "output_type": "execute_result"
    }
   ],
   "source": [
    "import tensorflow as tf\n",
    "tf.config.list_physical_devices('GPU')\n"
   ]
  },
  {
   "cell_type": "code",
   "execution_count": 2,
   "id": "108c94a4-83ed-4ab4-bec6-cd9c845cef22",
   "metadata": {},
   "outputs": [
    {
     "name": "stdout",
     "output_type": "stream",
     "text": [
      "Package                      Version\n",
      "---------------------------- ----------\n",
      "absl-py                      2.0.0\n",
      "asttokens                    2.4.1\n",
      "astunparse                   1.6.3\n",
      "cachetools                   5.3.2\n",
      "certifi                      2023.11.17\n",
      "charset-normalizer           3.3.2\n",
      "colorama                     0.4.6\n",
      "comm                         0.2.0\n",
      "contourpy                    1.2.0\n",
      "cycler                       0.12.1\n",
      "debugpy                      1.8.0\n",
      "decorator                    5.1.1\n",
      "exceptiongroup               1.2.0\n",
      "executing                    2.0.1\n",
      "flatbuffers                  23.5.26\n",
      "fonttools                    4.47.0\n",
      "gast                         0.5.4\n",
      "google-auth                  2.25.2\n",
      "google-auth-oauthlib         1.2.0\n",
      "google-pasta                 0.2.0\n",
      "grpcio                       1.60.0\n",
      "h5py                         3.10.0\n",
      "idna                         3.6\n",
      "importlib-metadata           7.0.1\n",
      "importlib-resources          6.1.1\n",
      "ipykernel                    6.27.1\n",
      "ipython                      8.18.1\n",
      "jedi                         0.19.1\n",
      "jupyter_client               8.6.0\n",
      "jupyter_core                 5.5.1\n",
      "keras                        2.15.0\n",
      "kiwisolver                   1.4.5\n",
      "libclang                     16.0.6\n",
      "Markdown                     3.5.1\n",
      "MarkupSafe                   2.1.3\n",
      "matplotlib                   3.8.2\n",
      "matplotlib-inline            0.1.6\n",
      "ml-dtypes                    0.2.0\n",
      "nest-asyncio                 1.5.8\n",
      "numpy                        1.26.2\n",
      "oauthlib                     3.2.2\n",
      "opt-einsum                   3.3.0\n",
      "packaging                    23.2\n",
      "parso                        0.8.3\n",
      "Pillow                       10.1.0\n",
      "pip                          23.3.1\n",
      "platformdirs                 4.1.0\n",
      "prompt-toolkit               3.0.43\n",
      "protobuf                     4.23.4\n",
      "psutil                       5.9.7\n",
      "pure-eval                    0.2.2\n",
      "pyasn1                       0.5.1\n",
      "pyasn1-modules               0.3.0\n",
      "Pygments                     2.17.2\n",
      "pyparsing                    3.1.1\n",
      "python-dateutil              2.8.2\n",
      "pywin32                      306\n",
      "pyzmq                        25.1.2\n",
      "requests                     2.31.0\n",
      "requests-oauthlib            1.3.1\n",
      "rsa                          4.9\n",
      "setuptools                   68.2.2\n",
      "six                          1.16.0\n",
      "stack-data                   0.6.3\n",
      "tensorboard                  2.15.1\n",
      "tensorboard-data-server      0.7.2\n",
      "tensorflow                   2.15.0\n",
      "tensorflow-estimator         2.15.0\n",
      "tensorflow-intel             2.15.0\n",
      "tensorflow-io-gcs-filesystem 0.31.0\n",
      "termcolor                    2.4.0\n",
      "tornado                      6.4\n",
      "traitlets                    5.14.0\n",
      "typing_extensions            4.9.0\n",
      "urllib3                      2.1.0\n",
      "wcwidth                      0.2.12\n",
      "Werkzeug                     3.0.1\n",
      "wheel                        0.41.2\n",
      "wrapt                        1.14.1\n",
      "zipp                         3.17.0\n"
     ]
    }
   ],
   "source": [
    "!pip list\n"
   ]
  }
 ],
 "metadata": {
  "kernelspec": {
   "display_name": "Deeplearning1",
   "language": "python",
   "name": "deeplearning1"
  },
  "language_info": {
   "codemirror_mode": {
    "name": "ipython",
    "version": 3
   },
   "file_extension": ".py",
   "mimetype": "text/x-python",
   "name": "python",
   "nbconvert_exporter": "python",
   "pygments_lexer": "ipython3",
   "version": "3.10.13"
  }
 },
 "nbformat": 4,
 "nbformat_minor": 5
}
