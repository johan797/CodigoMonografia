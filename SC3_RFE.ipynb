{
 "cells": [
  {
   "cell_type": "markdown",
   "id": "f1ee7205-5a7a-4fe4-9e8f-9970e4ab947d",
   "metadata": {},
   "source": [
    "### RFE ELIMINACIÓN DE CARACTERÍSTICAS RECURSIVA "
   ]
  },
  {
   "cell_type": "markdown",
   "id": "a03a10b5-201d-4fdf-ad77-5c44ea982dcb",
   "metadata": {},
   "source": [
    "La Eliminación de Características Recursiva (Recursive Feature Elimination, RFE) es un método de selección de características que elimina recursivamente atributos y construye un modelo con los atributos restantes. Utiliza la precisión del modelo para identificar qué atributos (y combinación de atributos) contribuyen más a predecir la variable objetivo."
   ]
  },
  {
   "cell_type": "code",
   "execution_count": 1,
   "id": "5d585cc5-4c33-4cff-a340-e99a11302853",
   "metadata": {},
   "outputs": [],
   "source": [
    "import pandas as pd\n",
    "df=pd.read_csv(\"dataset/data/sample_4M_cod.csv\", dtype='int64')"
   ]
  },
  {
   "cell_type": "code",
   "execution_count": 2,
   "id": "483b8e43-277c-4d43-a390-58a936d8d627",
   "metadata": {
    "tags": []
   },
   "outputs": [],
   "source": [
    "X = df.copy()\n",
    "y = X.pop(\"AttackCod\")"
   ]
  },
  {
   "cell_type": "markdown",
   "id": "84f9264a-3412-4fe9-b6b8-2ce05bd1fc9c",
   "metadata": {
    "jp-MarkdownHeadingCollapsed": true
   },
   "source": [
    "### Info"
   ]
  },
  {
   "cell_type": "code",
   "execution_count": 10,
   "id": "fbe7313c-ce96-4c80-87fd-2e4635f6f57c",
   "metadata": {
    "tags": []
   },
   "outputs": [
    {
     "name": "stdout",
     "output_type": "stream",
     "text": [
      "<class 'pandas.core.frame.DataFrame'>\n",
      "RangeIndex: 4000000 entries, 0 to 3999999\n",
      "Data columns (total 42 columns):\n",
      " #   Column                       Dtype\n",
      "---  ------                       -----\n",
      " 0   L4_SRC_PORT                  int64\n",
      " 1   L4_DST_PORT                  int64\n",
      " 2   PROTOCOL                     int64\n",
      " 3   L7_PROTO                     int64\n",
      " 4   IN_BYTES                     int64\n",
      " 5   IN_PKTS                      int64\n",
      " 6   OUT_BYTES                    int64\n",
      " 7   OUT_PKTS                     int64\n",
      " 8   TCP_FLAGS                    int64\n",
      " 9   CLIENT_TCP_FLAGS             int64\n",
      " 10  SERVER_TCP_FLAGS             int64\n",
      " 11  FLOW_DURATION_MILLISECONDS   int64\n",
      " 12  DURATION_IN                  int64\n",
      " 13  DURATION_OUT                 int64\n",
      " 14  MIN_TTL                      int64\n",
      " 15  MAX_TTL                      int64\n",
      " 16  LONGEST_FLOW_PKT             int64\n",
      " 17  SHORTEST_FLOW_PKT            int64\n",
      " 18  MIN_IP_PKT_LEN               int64\n",
      " 19  MAX_IP_PKT_LEN               int64\n",
      " 20  SRC_TO_DST_SECOND_BYTES      int64\n",
      " 21  DST_TO_SRC_SECOND_BYTES      int64\n",
      " 22  RETRANSMITTED_IN_BYTES       int64\n",
      " 23  RETRANSMITTED_IN_PKTS        int64\n",
      " 24  RETRANSMITTED_OUT_BYTES      int64\n",
      " 25  RETRANSMITTED_OUT_PKTS       int64\n",
      " 26  SRC_TO_DST_AVG_THROUGHPUT    int64\n",
      " 27  DST_TO_SRC_AVG_THROUGHPUT    int64\n",
      " 28  NUM_PKTS_UP_TO_128_BYTES     int64\n",
      " 29  NUM_PKTS_128_TO_256_BYTES    int64\n",
      " 30  NUM_PKTS_256_TO_512_BYTES    int64\n",
      " 31  NUM_PKTS_512_TO_1024_BYTES   int64\n",
      " 32  NUM_PKTS_1024_TO_1514_BYTES  int64\n",
      " 33  TCP_WIN_MAX_IN               int64\n",
      " 34  TCP_WIN_MAX_OUT              int64\n",
      " 35  ICMP_TYPE                    int64\n",
      " 36  ICMP_IPV4_TYPE               int64\n",
      " 37  DNS_QUERY_ID                 int64\n",
      " 38  DNS_QUERY_TYPE               int64\n",
      " 39  DNS_TTL_ANSWER               int64\n",
      " 40  FTP_COMMAND_RET_CODE         int64\n",
      " 41  AttackCod                    int64\n",
      "dtypes: int64(42)\n",
      "memory usage: 1.3 GB\n"
     ]
    }
   ],
   "source": [
    "df.info()"
   ]
  },
  {
   "cell_type": "code",
   "execution_count": 5,
   "id": "23f4a94f-3444-48bc-b46a-e8b4ab42755e",
   "metadata": {
    "tags": []
   },
   "outputs": [
    {
     "data": {
      "text/plain": [
       "Index(['L4_SRC_PORT', 'L4_DST_PORT', 'PROTOCOL', 'L7_PROTO', 'IN_BYTES',\n",
       "       'IN_PKTS', 'OUT_BYTES', 'OUT_PKTS', 'TCP_FLAGS', 'CLIENT_TCP_FLAGS',\n",
       "       'SERVER_TCP_FLAGS', 'FLOW_DURATION_MILLISECONDS', 'DURATION_IN',\n",
       "       'DURATION_OUT', 'MIN_TTL', 'MAX_TTL', 'LONGEST_FLOW_PKT',\n",
       "       'SHORTEST_FLOW_PKT', 'MIN_IP_PKT_LEN', 'MAX_IP_PKT_LEN',\n",
       "       'SRC_TO_DST_SECOND_BYTES', 'DST_TO_SRC_SECOND_BYTES',\n",
       "       'RETRANSMITTED_IN_BYTES', 'RETRANSMITTED_IN_PKTS',\n",
       "       'RETRANSMITTED_OUT_BYTES', 'RETRANSMITTED_OUT_PKTS',\n",
       "       'SRC_TO_DST_AVG_THROUGHPUT', 'DST_TO_SRC_AVG_THROUGHPUT',\n",
       "       'NUM_PKTS_UP_TO_128_BYTES', 'NUM_PKTS_128_TO_256_BYTES',\n",
       "       'NUM_PKTS_256_TO_512_BYTES', 'NUM_PKTS_512_TO_1024_BYTES',\n",
       "       'NUM_PKTS_1024_TO_1514_BYTES', 'TCP_WIN_MAX_IN', 'TCP_WIN_MAX_OUT',\n",
       "       'ICMP_TYPE', 'ICMP_IPV4_TYPE', 'DNS_QUERY_ID', 'DNS_QUERY_TYPE',\n",
       "       'DNS_TTL_ANSWER', 'FTP_COMMAND_RET_CODE', 'Label', 'Dataset'],\n",
       "      dtype='object')"
      ]
     },
     "execution_count": 5,
     "metadata": {},
     "output_type": "execute_result"
    }
   ],
   "source": [
    "X.columns"
   ]
  },
  {
   "cell_type": "markdown",
   "id": "ca9c9c7f-ff9a-4ca7-8a6b-0d4687d41cef",
   "metadata": {},
   "source": [
    "### RFE"
   ]
  },
  {
   "cell_type": "code",
   "execution_count": 3,
   "id": "7de62635-93e0-4dc2-a720-9c3286760fde",
   "metadata": {},
   "outputs": [],
   "source": [
    "from sklearn.model_selection import train_test_split\n",
    "from sklearn.feature_selection import RFE\n",
    "from sklearn.ensemble import RandomForestClassifier\n",
    "from sklearn.metrics import accuracy_score\n",
    "\n",
    "# Dividir los datos en conjuntos de entrenamiento, validación y prueba\n",
    "X_train, X_temp, y_train, y_temp = train_test_split(X, y, test_size=0.3, random_state=42)\n",
    "X_valid, X_test, y_valid, y_test = train_test_split(X_temp, y_temp, test_size=0.5, random_state=42)"
   ]
  },
  {
   "cell_type": "markdown",
   "id": "a5f45809-5d20-4fac-b22a-54fa0c2b9d59",
   "metadata": {},
   "source": [
    "### 22"
   ]
  },
  {
   "cell_type": "code",
   "execution_count": 13,
   "id": "5d5fb4c4-35b0-410b-864e-120b7bb43df9",
   "metadata": {
    "tags": []
   },
   "outputs": [
    {
     "name": "stdout",
     "output_type": "stream",
     "text": [
      "Validación de precisión con las características seleccionadas: 0.999545\n",
      "Prueba de precisión con las características seleccionadas: 0.9994933333333333\n"
     ]
    }
   ],
   "source": [
    "# Crear el estimador de Random Forest\n",
    "estimator = RandomForestClassifier(n_estimators=50, random_state=42)\n",
    "\n",
    "# Crear el selector RFE con el estimador de Random Forest\n",
    "selector = RFE(estimator, n_features_to_select=22, step=1)\n",
    "\n",
    "# Ajustar RFE al conjunto de entrenamiento\n",
    "selector = selector.fit(X_train, y_train)\n",
    "\n",
    "# Evaluar el modelo en el conjunto de validación para encontrar el mejor número de características\n",
    "valid_score = accuracy_score(y_valid, selector.predict(X_valid))\n",
    "\n",
    "# Una vez elegido el número óptimo de características y ajustado el modelo final\n",
    "# se evalúa en el conjunto de prueba\n",
    "test_score = accuracy_score(y_test, selector.predict(X_test))\n",
    "\n",
    "print(f\"Validación de precisión con las características seleccionadas: {valid_score}\")\n",
    "print(f\"Prueba de precisión con las características seleccionadas: {test_score}\")"
   ]
  },
  {
   "cell_type": "code",
   "execution_count": 14,
   "id": "6f83f141-eec4-45e0-a351-d1216a4dcbcd",
   "metadata": {},
   "outputs": [
    {
     "name": "stdout",
     "output_type": "stream",
     "text": [
      "Características seleccionadas:\n",
      "L4_DST_PORT\n",
      "L7_PROTO\n",
      "IN_BYTES\n",
      "IN_PKTS\n",
      "OUT_BYTES\n",
      "OUT_PKTS\n",
      "CLIENT_TCP_FLAGS\n",
      "FLOW_DURATION_MILLISECONDS\n",
      "DURATION_IN\n",
      "DURATION_OUT\n",
      "MIN_TTL\n",
      "MAX_TTL\n",
      "LONGEST_FLOW_PKT\n",
      "SHORTEST_FLOW_PKT\n",
      "MIN_IP_PKT_LEN\n",
      "MAX_IP_PKT_LEN\n",
      "SRC_TO_DST_SECOND_BYTES\n",
      "SRC_TO_DST_AVG_THROUGHPUT\n",
      "DST_TO_SRC_AVG_THROUGHPUT\n",
      "NUM_PKTS_UP_TO_128_BYTES\n",
      "TCP_WIN_MAX_IN\n",
      "TCP_WIN_MAX_OUT\n"
     ]
    }
   ],
   "source": [
    "# 'X' es un DataFrame de pandas y las columnas son las características\n",
    "feature_names = X.columns\n",
    "\n",
    "# Obtener las características seleccionadas en base al atributo support_\n",
    "selected_features = feature_names[selector.support_]\n",
    "\n",
    "# Imprimir las características seleccionadas\n",
    "print(\"Características seleccionadas:\")\n",
    "for feature in selected_features:\n",
    "    print(feature)"
   ]
  },
  {
   "cell_type": "markdown",
   "id": "a4e24383-e2bc-432d-bce1-4a84f9d958b2",
   "metadata": {},
   "source": [
    "### 24"
   ]
  },
  {
   "cell_type": "code",
   "execution_count": 5,
   "id": "2262a97e-c453-4261-ab06-bf7d0ec7e1e9",
   "metadata": {},
   "outputs": [
    {
     "name": "stdout",
     "output_type": "stream",
     "text": [
      "Validación de precisión con las características seleccionadas: 0.9995333333333334\n",
      "Prueba de precisión con las características seleccionadas: 0.99953\n"
     ]
    }
   ],
   "source": [
    "# Crear el estimador de Random Forest\n",
    "estimator = RandomForestClassifier(n_estimators=50, random_state=42)\n",
    "\n",
    "# Crear el selector RFE con el estimador de Random Forest\n",
    "selector = RFE(estimator, n_features_to_select=24, step=1)\n",
    "\n",
    "# Ajustar RFE al conjunto de entrenamiento\n",
    "selector = selector.fit(X_train, y_train)\n",
    "\n",
    "# Evaluar el modelo en el conjunto de validación para encontrar el mejor número de características\n",
    "valid_score = accuracy_score(y_valid, selector.predict(X_valid))\n",
    "\n",
    "# Una vez elegido el número óptimo de características y ajustado el modelo final\n",
    "# se evalúa en el conjunto de prueba\n",
    "test_score = accuracy_score(y_test, selector.predict(X_test))\n",
    "\n",
    "print(f\"Validación de precisión con las características seleccionadas: {valid_score}\")\n",
    "print(f\"Prueba de precisión con las características seleccionadas: {test_score}\")"
   ]
  },
  {
   "cell_type": "code",
   "execution_count": 6,
   "id": "5e28c396-4bb8-4929-b626-5f95bd837718",
   "metadata": {},
   "outputs": [
    {
     "name": "stdout",
     "output_type": "stream",
     "text": [
      "Características seleccionadas:\n",
      "L4_SRC_PORT\n",
      "L4_DST_PORT\n",
      "L7_PROTO\n",
      "IN_BYTES\n",
      "IN_PKTS\n",
      "OUT_BYTES\n",
      "OUT_PKTS\n",
      "CLIENT_TCP_FLAGS\n",
      "FLOW_DURATION_MILLISECONDS\n",
      "DURATION_IN\n",
      "DURATION_OUT\n",
      "MIN_TTL\n",
      "MAX_TTL\n",
      "LONGEST_FLOW_PKT\n",
      "SHORTEST_FLOW_PKT\n",
      "MIN_IP_PKT_LEN\n",
      "MAX_IP_PKT_LEN\n",
      "SRC_TO_DST_SECOND_BYTES\n",
      "DST_TO_SRC_SECOND_BYTES\n",
      "SRC_TO_DST_AVG_THROUGHPUT\n",
      "DST_TO_SRC_AVG_THROUGHPUT\n",
      "NUM_PKTS_UP_TO_128_BYTES\n",
      "TCP_WIN_MAX_IN\n",
      "TCP_WIN_MAX_OUT\n"
     ]
    }
   ],
   "source": [
    "# 'X' es un DataFrame de pandas y las columnas son las características\n",
    "feature_names = X.columns\n",
    "\n",
    "# Obtener las características seleccionadas en base al atributo support_\n",
    "selected_features = feature_names[selector.support_]\n",
    "\n",
    "# Imprimir las características seleccionadas\n",
    "print(\"Características seleccionadas:\")\n",
    "for feature in selected_features:\n",
    "    print(feature)"
   ]
  }
 ],
 "metadata": {
  "kernelspec": {
   "display_name": "dgpu39",
   "language": "python",
   "name": "dgpu39"
  },
  "language_info": {
   "codemirror_mode": {
    "name": "ipython",
    "version": 3
   },
   "file_extension": ".py",
   "mimetype": "text/x-python",
   "name": "python",
   "nbconvert_exporter": "python",
   "pygments_lexer": "ipython3",
   "version": "3.9.18"
  }
 },
 "nbformat": 4,
 "nbformat_minor": 5
}
